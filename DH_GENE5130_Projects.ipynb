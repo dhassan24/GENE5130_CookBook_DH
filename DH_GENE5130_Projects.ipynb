{
  "cells": [
    {
      "cell_type": "markdown",
      "metadata": {
        "id": "V_6GaxSxGDDL"
      },
      "source": [
        "## Projects\n",
        "\n",
        "\n",
        "1.- Comparative gene expression profiling analysis of RNA-seq data for Trichomonas tenax-treated NCI-H292 cells. T. tenax is a neglected tropical disease  that affects oral cavities of people around the world.\n",
        "\n",
        " SRAID      | Treatment |\n",
        "------------|-----------|\n",
        "SRR23972383 | cocultured with Trichomonas tenax\n",
        "SRR23972384 | cocultured with Trichomonas tenax\n",
        "SRR23972385 | cocultured with Trichomonas tenax\n",
        "SRR23972386 | untreated\n",
        "SRR23972387 | untreated\n",
        "SRR23972388 | untreated"
      ]
    },
    {
      "cell_type": "code",
      "execution_count": null,
      "metadata": {
        "colab": {
          "base_uri": "https://localhost:8080/"
        },
        "id": "RLYGpLLCE4Hu",
        "outputId": "29336fd2-7136-4a7f-b239-12907618deaa"
      },
      "outputs": [
        {
          "output_type": "stream",
          "name": "stdout",
          "text": [
            "Reading package lists... Done\n",
            "Building dependency tree... Done\n",
            "Reading state information... Done\n",
            "The following additional packages will be installed:\n",
            "  default-jre-headless fonts-dejavu-core fonts-dejavu-extra\n",
            "  libatk-wrapper-java libatk-wrapper-java-jni libxtst6 libxxf86dga1\n",
            "  openjdk-11-jre x11-utils\n",
            "Suggested packages:\n",
            "  mesa-utils\n",
            "The following NEW packages will be installed:\n",
            "  default-jre default-jre-headless fonts-dejavu-core fonts-dejavu-extra\n",
            "  libatk-wrapper-java libatk-wrapper-java-jni libxtst6 libxxf86dga1\n",
            "  openjdk-11-jre x11-utils\n",
            "0 upgraded, 10 newly installed, 0 to remove and 30 not upgraded.\n",
            "Need to get 3,634 kB of archives.\n",
            "After this operation, 12.4 MB of additional disk space will be used.\n",
            "Get:1 http://archive.ubuntu.com/ubuntu jammy/main amd64 default-jre-headless amd64 2:1.11-72build2 [3,042 B]\n",
            "Get:2 http://archive.ubuntu.com/ubuntu jammy/main amd64 libxtst6 amd64 2:1.2.3-1build4 [13.4 kB]\n",
            "Get:3 http://archive.ubuntu.com/ubuntu jammy-updates/main amd64 openjdk-11-jre amd64 11.0.26+4-1ubuntu1~22.04 [214 kB]\n",
            "Get:4 http://archive.ubuntu.com/ubuntu jammy/main amd64 default-jre amd64 2:1.11-72build2 [896 B]\n",
            "Get:5 http://archive.ubuntu.com/ubuntu jammy/main amd64 fonts-dejavu-core all 2.37-2build1 [1,041 kB]\n",
            "Get:6 http://archive.ubuntu.com/ubuntu jammy/main amd64 fonts-dejavu-extra all 2.37-2build1 [2,041 kB]\n",
            "Get:7 http://archive.ubuntu.com/ubuntu jammy/main amd64 libxxf86dga1 amd64 2:1.1.5-0ubuntu3 [12.6 kB]\n",
            "Get:8 http://archive.ubuntu.com/ubuntu jammy/main amd64 x11-utils amd64 7.7+5build2 [206 kB]\n",
            "Get:9 http://archive.ubuntu.com/ubuntu jammy/main amd64 libatk-wrapper-java all 0.38.0-5build1 [53.1 kB]\n",
            "Get:10 http://archive.ubuntu.com/ubuntu jammy/main amd64 libatk-wrapper-java-jni amd64 0.38.0-5build1 [49.0 kB]\n",
            "Fetched 3,634 kB in 1s (4,044 kB/s)\n",
            "debconf: unable to initialize frontend: Dialog\n",
            "debconf: (No usable dialog-like program is installed, so the dialog based frontend cannot be used. at /usr/share/perl5/Debconf/FrontEnd/Dialog.pm line 78, <> line 10.)\n",
            "debconf: falling back to frontend: Readline\n",
            "debconf: unable to initialize frontend: Readline\n",
            "debconf: (This frontend requires a controlling tty.)\n",
            "debconf: falling back to frontend: Teletype\n",
            "dpkg-preconfigure: unable to re-open stdin: \n",
            "Selecting previously unselected package default-jre-headless.\n",
            "(Reading database ... 126315 files and directories currently installed.)\n",
            "Preparing to unpack .../0-default-jre-headless_2%3a1.11-72build2_amd64.deb ...\n",
            "Unpacking default-jre-headless (2:1.11-72build2) ...\n",
            "Selecting previously unselected package libxtst6:amd64.\n",
            "Preparing to unpack .../1-libxtst6_2%3a1.2.3-1build4_amd64.deb ...\n",
            "Unpacking libxtst6:amd64 (2:1.2.3-1build4) ...\n",
            "Selecting previously unselected package openjdk-11-jre:amd64.\n",
            "Preparing to unpack .../2-openjdk-11-jre_11.0.26+4-1ubuntu1~22.04_amd64.deb ...\n",
            "Unpacking openjdk-11-jre:amd64 (11.0.26+4-1ubuntu1~22.04) ...\n",
            "Selecting previously unselected package default-jre.\n",
            "Preparing to unpack .../3-default-jre_2%3a1.11-72build2_amd64.deb ...\n",
            "Unpacking default-jre (2:1.11-72build2) ...\n",
            "Selecting previously unselected package fonts-dejavu-core.\n",
            "Preparing to unpack .../4-fonts-dejavu-core_2.37-2build1_all.deb ...\n",
            "Unpacking fonts-dejavu-core (2.37-2build1) ...\n",
            "Selecting previously unselected package fonts-dejavu-extra.\n",
            "Preparing to unpack .../5-fonts-dejavu-extra_2.37-2build1_all.deb ...\n",
            "Unpacking fonts-dejavu-extra (2.37-2build1) ...\n",
            "Selecting previously unselected package libxxf86dga1:amd64.\n",
            "Preparing to unpack .../6-libxxf86dga1_2%3a1.1.5-0ubuntu3_amd64.deb ...\n",
            "Unpacking libxxf86dga1:amd64 (2:1.1.5-0ubuntu3) ...\n",
            "Selecting previously unselected package x11-utils.\n",
            "Preparing to unpack .../7-x11-utils_7.7+5build2_amd64.deb ...\n",
            "Unpacking x11-utils (7.7+5build2) ...\n",
            "Selecting previously unselected package libatk-wrapper-java.\n",
            "Preparing to unpack .../8-libatk-wrapper-java_0.38.0-5build1_all.deb ...\n",
            "Unpacking libatk-wrapper-java (0.38.0-5build1) ...\n",
            "Selecting previously unselected package libatk-wrapper-java-jni:amd64.\n",
            "Preparing to unpack .../9-libatk-wrapper-java-jni_0.38.0-5build1_amd64.deb ...\n",
            "Unpacking libatk-wrapper-java-jni:amd64 (0.38.0-5build1) ...\n",
            "Setting up default-jre-headless (2:1.11-72build2) ...\n",
            "Setting up libxtst6:amd64 (2:1.2.3-1build4) ...\n",
            "Setting up libxxf86dga1:amd64 (2:1.1.5-0ubuntu3) ...\n",
            "Setting up openjdk-11-jre:amd64 (11.0.26+4-1ubuntu1~22.04) ...\n",
            "Setting up default-jre (2:1.11-72build2) ...\n",
            "Setting up fonts-dejavu-core (2.37-2build1) ...\n",
            "Setting up fonts-dejavu-extra (2.37-2build1) ...\n",
            "Setting up x11-utils (7.7+5build2) ...\n",
            "Setting up libatk-wrapper-java (0.38.0-5build1) ...\n",
            "Setting up libatk-wrapper-java-jni:amd64 (0.38.0-5build1) ...\n",
            "Processing triggers for fontconfig (2.13.1-4.2ubuntu5) ...\n",
            "Processing triggers for hicolor-icon-theme (0.17-2) ...\n",
            "Processing triggers for libc-bin (2.35-0ubuntu3.8) ...\n",
            "/sbin/ldconfig.real: /usr/local/lib/libtcm.so.1 is not a symbolic link\n",
            "\n",
            "/sbin/ldconfig.real: /usr/local/lib/libtcm_debug.so.1 is not a symbolic link\n",
            "\n",
            "/sbin/ldconfig.real: /usr/local/lib/libtbbbind.so.3 is not a symbolic link\n",
            "\n",
            "/sbin/ldconfig.real: /usr/local/lib/libur_adapter_level_zero.so.0 is not a symbolic link\n",
            "\n",
            "/sbin/ldconfig.real: /usr/local/lib/libtbbmalloc_proxy.so.2 is not a symbolic link\n",
            "\n",
            "/sbin/ldconfig.real: /usr/local/lib/libtbbmalloc.so.2 is not a symbolic link\n",
            "\n",
            "/sbin/ldconfig.real: /usr/local/lib/libhwloc.so.15 is not a symbolic link\n",
            "\n",
            "/sbin/ldconfig.real: /usr/local/lib/libur_adapter_opencl.so.0 is not a symbolic link\n",
            "\n",
            "/sbin/ldconfig.real: /usr/local/lib/libtbbbind_2_5.so.3 is not a symbolic link\n",
            "\n",
            "/sbin/ldconfig.real: /usr/local/lib/libtbb.so.12 is not a symbolic link\n",
            "\n",
            "/sbin/ldconfig.real: /usr/local/lib/libur_loader.so.0 is not a symbolic link\n",
            "\n",
            "/sbin/ldconfig.real: /usr/local/lib/libumf.so.0 is not a symbolic link\n",
            "\n",
            "/sbin/ldconfig.real: /usr/local/lib/libtbbbind_2_0.so.3 is not a symbolic link\n",
            "\n",
            "Processing triggers for man-db (2.10.2-1) ...\n",
            "Processing triggers for mailcap (3.70+nmu1ubuntu1) ...\n",
            "openjdk version \"11.0.26\" 2025-01-21\n",
            "OpenJDK Runtime Environment (build 11.0.26+4-post-Ubuntu-1ubuntu122.04)\n",
            "OpenJDK 64-Bit Server VM (build 11.0.26+4-post-Ubuntu-1ubuntu122.04, mixed mode, sharing)\n"
          ]
        }
      ],
      "source": [
        "#Dont' need to do this in sever\n",
        "!sudo apt-get install -y default-jre\n",
        "!java -version"
      ]
    },
    {
      "cell_type": "code",
      "execution_count": null,
      "metadata": {
        "colab": {
          "base_uri": "https://localhost:8080/"
        },
        "collapsed": true,
        "id": "qadKhzojD_HC",
        "outputId": "f43ce1c6-c6f4-49ce-be9b-3f57089ca515"
      },
      "outputs": [
        {
          "output_type": "stream",
          "name": "stdout",
          "text": [
            "--2025-04-16 20:59:53--  https://ftp-trace.ncbi.nlm.nih.gov/sra/sdk/3.1.0/sratoolkit.3.1.0-ubuntu64.tar.gz\n",
            "Resolving ftp-trace.ncbi.nlm.nih.gov (ftp-trace.ncbi.nlm.nih.gov)... 130.14.250.7, 130.14.250.10, 2607:f220:41e:250::11, ...\n",
            "Connecting to ftp-trace.ncbi.nlm.nih.gov (ftp-trace.ncbi.nlm.nih.gov)|130.14.250.7|:443... connected.\n",
            "HTTP request sent, awaiting response... 200 OK\n",
            "Length: 93495998 (89M) [application/x-gzip]\n",
            "Saving to: ‘sratoolkit.3.1.0-ubuntu64.tar.gz’\n",
            "\n",
            "sratoolkit.3.1.0-ub 100%[===================>]  89.16M  47.7MB/s    in 1.9s    \n",
            "\n",
            "2025-04-16 20:59:55 (47.7 MB/s) - ‘sratoolkit.3.1.0-ubuntu64.tar.gz’ saved [93495998/93495998]\n",
            "\n",
            "--2025-04-16 20:59:55--  http://./\n",
            "Resolving . (.)... failed: No address associated with hostname.\n",
            "wget: unable to resolve host address ‘.’\n",
            "FINISHED --2025-04-16 20:59:55--\n",
            "Total wall clock time: 1.9s\n",
            "Downloaded: 1 files, 89M in 1.9s (47.7 MB/s)\n",
            "sratoolkit.3.1.0-ubuntu64/\n",
            "sratoolkit.3.1.0-ubuntu64/README.md\n",
            "sratoolkit.3.1.0-ubuntu64/README-vdb-config\n",
            "sratoolkit.3.1.0-ubuntu64/schema/\n",
            "sratoolkit.3.1.0-ubuntu64/schema/vdb/\n",
            "sratoolkit.3.1.0-ubuntu64/schema/vdb/vdb.vschema\n",
            "sratoolkit.3.1.0-ubuntu64/schema/vdb/built-in.vschema\n",
            "sratoolkit.3.1.0-ubuntu64/schema/insdc/\n",
            "sratoolkit.3.1.0-ubuntu64/schema/insdc/insdc.vschema\n",
            "sratoolkit.3.1.0-ubuntu64/schema/insdc/sra.vschema\n",
            "sratoolkit.3.1.0-ubuntu64/schema/insdc/seq.vschema\n",
            "sratoolkit.3.1.0-ubuntu64/schema/sra/\n",
            "sratoolkit.3.1.0-ubuntu64/schema/sra/abi.vschema\n",
            "sratoolkit.3.1.0-ubuntu64/schema/sra/pevents.vschema\n",
            "sratoolkit.3.1.0-ubuntu64/schema/sra/generic-fastq.vschema\n",
            "sratoolkit.3.1.0-ubuntu64/schema/sra/454.vschema\n",
            "sratoolkit.3.1.0-ubuntu64/schema/sra/pacbio.vschema\n",
            "sratoolkit.3.1.0-ubuntu64/schema/sra/illumina.vschema\n",
            "sratoolkit.3.1.0-ubuntu64/schema/sra/helicos.vschema\n",
            "sratoolkit.3.1.0-ubuntu64/schema/sra/nanopore.vschema\n",
            "sratoolkit.3.1.0-ubuntu64/schema/sra/ion-torrent.vschema\n",
            "sratoolkit.3.1.0-ubuntu64/schema/ncbi/\n",
            "sratoolkit.3.1.0-ubuntu64/schema/ncbi/clip.vschema\n",
            "sratoolkit.3.1.0-ubuntu64/schema/ncbi/seq-graph.vschema\n",
            "sratoolkit.3.1.0-ubuntu64/schema/ncbi/stats.vschema\n",
            "sratoolkit.3.1.0-ubuntu64/schema/ncbi/ncbi.vschema\n",
            "sratoolkit.3.1.0-ubuntu64/schema/ncbi/wgs-contig.vschema\n",
            "sratoolkit.3.1.0-ubuntu64/schema/ncbi/sra.vschema\n",
            "sratoolkit.3.1.0-ubuntu64/schema/ncbi/spotname.vschema\n",
            "sratoolkit.3.1.0-ubuntu64/schema/ncbi/pnbrdb.vschema\n",
            "sratoolkit.3.1.0-ubuntu64/schema/ncbi/varloc.vschema\n",
            "sratoolkit.3.1.0-ubuntu64/schema/ncbi/seq.vschema\n",
            "sratoolkit.3.1.0-ubuntu64/schema/ncbi/trace.vschema\n",
            "sratoolkit.3.1.0-ubuntu64/schema/align/\n",
            "sratoolkit.3.1.0-ubuntu64/schema/align/refseq.vschema\n",
            "sratoolkit.3.1.0-ubuntu64/schema/align/pileup-stats.vschema\n",
            "sratoolkit.3.1.0-ubuntu64/schema/align/mate-cache.vschema\n",
            "sratoolkit.3.1.0-ubuntu64/schema/align/seq.vschema\n",
            "sratoolkit.3.1.0-ubuntu64/schema/align/align.vschema\n",
            "sratoolkit.3.1.0-ubuntu64/schema/align/qstat.vschema\n",
            "sratoolkit.3.1.0-ubuntu64/schema/csra2/\n",
            "sratoolkit.3.1.0-ubuntu64/schema/csra2/stats.vschema\n",
            "sratoolkit.3.1.0-ubuntu64/schema/csra2/reference.vschema\n",
            "sratoolkit.3.1.0-ubuntu64/schema/csra2/read.vschema\n",
            "sratoolkit.3.1.0-ubuntu64/schema/csra2/csra2.vschema\n",
            "sratoolkit.3.1.0-ubuntu64/bin/\n",
            "sratoolkit.3.1.0-ubuntu64/bin/fastq-dump-orig.3.1.0\n",
            "sratoolkit.3.1.0-ubuntu64/bin/bam-load.3\n",
            "sratoolkit.3.1.0-ubuntu64/bin/sra-search\n",
            "sratoolkit.3.1.0-ubuntu64/bin/cache-mgr.3.1.0\n",
            "sratoolkit.3.1.0-ubuntu64/bin/sff-load.3.1.0\n",
            "sratoolkit.3.1.0-ubuntu64/bin/prefetch.3\n",
            "sratoolkit.3.1.0-ubuntu64/bin/sam-dump.3\n",
            "sratoolkit.3.1.0-ubuntu64/bin/sff-dump.3\n",
            "sratoolkit.3.1.0-ubuntu64/bin/sff-dump\n",
            "sratoolkit.3.1.0-ubuntu64/bin/fastq-dump\n",
            "sratoolkit.3.1.0-ubuntu64/bin/fastq-load.3\n",
            "sratoolkit.3.1.0-ubuntu64/bin/sra-sort.3\n",
            "sratoolkit.3.1.0-ubuntu64/bin/sra-stat.3.1.0\n",
            "sratoolkit.3.1.0-ubuntu64/bin/sratools\n",
            "sratoolkit.3.1.0-ubuntu64/bin/cache-mgr.3\n",
            "sratoolkit.3.1.0-ubuntu64/bin/cache-mgr\n",
            "sratoolkit.3.1.0-ubuntu64/bin/srapath\n",
            "sratoolkit.3.1.0-ubuntu64/bin/srf-load.3.1.0\n",
            "sratoolkit.3.1.0-ubuntu64/bin/kar.3\n",
            "sratoolkit.3.1.0-ubuntu64/bin/fasterq-dump-orig.3.1.0\n",
            "sratoolkit.3.1.0-ubuntu64/bin/srf-load.3\n",
            "sratoolkit.3.1.0-ubuntu64/bin/illumina-dump\n",
            "sratoolkit.3.1.0-ubuntu64/bin/srapath.3\n",
            "sratoolkit.3.1.0-ubuntu64/bin/sam-dump\n",
            "sratoolkit.3.1.0-ubuntu64/bin/vdb-encrypt\n",
            "sratoolkit.3.1.0-ubuntu64/bin/rcexplain.3.1.0\n",
            "sratoolkit.3.1.0-ubuntu64/bin/rcexplain\n",
            "sratoolkit.3.1.0-ubuntu64/bin/sra-pileup-orig.3.1.0\n",
            "sratoolkit.3.1.0-ubuntu64/bin/vdb-decrypt\n",
            "sratoolkit.3.1.0-ubuntu64/bin/sra-sort-cg.3.1.0\n",
            "sratoolkit.3.1.0-ubuntu64/bin/vdb-lock.3\n",
            "sratoolkit.3.1.0-ubuntu64/bin/vdb-lock\n",
            "sratoolkit.3.1.0-ubuntu64/bin/vdb-lock.3.1.0\n",
            "sratoolkit.3.1.0-ubuntu64/bin/prefetch.3.1.0\n",
            "sratoolkit.3.1.0-ubuntu64/bin/ncbi/\n",
            "sratoolkit.3.1.0-ubuntu64/bin/ncbi/default.kfg\n",
            "sratoolkit.3.1.0-ubuntu64/bin/ncbi/certs.kfg\n",
            "sratoolkit.3.1.0-ubuntu64/bin/ncbi/vdb-copy.kfg\n",
            "sratoolkit.3.1.0-ubuntu64/bin/vdb-validate\n",
            "sratoolkit.3.1.0-ubuntu64/bin/illumina-load.3.1.0\n",
            "sratoolkit.3.1.0-ubuntu64/bin/rcexplain.3\n",
            "sratoolkit.3.1.0-ubuntu64/bin/vdb-copy.3\n",
            "sratoolkit.3.1.0-ubuntu64/bin/vdb-config\n",
            "sratoolkit.3.1.0-ubuntu64/bin/fastq-load\n",
            "sratoolkit.3.1.0-ubuntu64/bin/sff-load.3\n",
            "sratoolkit.3.1.0-ubuntu64/bin/illumina-load.3\n",
            "sratoolkit.3.1.0-ubuntu64/bin/pacbio-load.3.1.0\n",
            "sratoolkit.3.1.0-ubuntu64/bin/vdb-dump.3\n",
            "sratoolkit.3.1.0-ubuntu64/bin/test-sra.3\n",
            "sratoolkit.3.1.0-ubuntu64/bin/helicos-load\n",
            "sratoolkit.3.1.0-ubuntu64/bin/pacbio-load\n",
            "sratoolkit.3.1.0-ubuntu64/bin/helicos-load.3\n",
            "sratoolkit.3.1.0-ubuntu64/bin/abi-dump\n",
            "sratoolkit.3.1.0-ubuntu64/bin/test-sra\n",
            "sratoolkit.3.1.0-ubuntu64/bin/vdb-unlock.3.1.0\n",
            "sratoolkit.3.1.0-ubuntu64/bin/vdb-encrypt.3.1.0\n",
            "sratoolkit.3.1.0-ubuntu64/bin/sra-pileup.3.1.0\n",
            "sratoolkit.3.1.0-ubuntu64/bin/vdb-dump.3.1.0\n",
            "sratoolkit.3.1.0-ubuntu64/bin/vdb-decrypt.3.1.0\n",
            "sratoolkit.3.1.0-ubuntu64/bin/dump-ref-fasta.3.1.0\n",
            "sratoolkit.3.1.0-ubuntu64/bin/vdb-validate.3\n",
            "sratoolkit.3.1.0-ubuntu64/bin/latf-load.3.1.0\n",
            "sratoolkit.3.1.0-ubuntu64/bin/illumina-dump.3\n",
            "sratoolkit.3.1.0-ubuntu64/bin/sam-dump.3.1.0\n",
            "sratoolkit.3.1.0-ubuntu64/bin/bam-load\n",
            "sratoolkit.3.1.0-ubuntu64/bin/sratools.3\n",
            "sratoolkit.3.1.0-ubuntu64/bin/vdb-copy.3.1.0\n",
            "sratoolkit.3.1.0-ubuntu64/bin/sratools.3.1.0\n",
            "sratoolkit.3.1.0-ubuntu64/bin/kdbmeta.3\n",
            "sratoolkit.3.1.0-ubuntu64/bin/fastq-dump.3.1.0\n",
            "sratoolkit.3.1.0-ubuntu64/bin/sra-sort-cg\n",
            "sratoolkit.3.1.0-ubuntu64/bin/fasterq-dump.3\n",
            "sratoolkit.3.1.0-ubuntu64/bin/bam-load.3.1.0\n",
            "sratoolkit.3.1.0-ubuntu64/bin/prefetch-orig.3.1.0\n",
            "sratoolkit.3.1.0-ubuntu64/bin/latf-load\n",
            "sratoolkit.3.1.0-ubuntu64/bin/vdb-config.3.1.0\n",
            "sratoolkit.3.1.0-ubuntu64/bin/abi-dump.3.1.0\n",
            "sratoolkit.3.1.0-ubuntu64/bin/abi-load.3\n",
            "sratoolkit.3.1.0-ubuntu64/bin/cg-load.3.1.0\n",
            "sratoolkit.3.1.0-ubuntu64/bin/fasterq-dump.3.1.0\n",
            "sratoolkit.3.1.0-ubuntu64/bin/vdb-unlock\n",
            "sratoolkit.3.1.0-ubuntu64/bin/helicos-load.3.1.0\n",
            "sratoolkit.3.1.0-ubuntu64/bin/illumina-load\n",
            "sratoolkit.3.1.0-ubuntu64/bin/sam-dump-orig.3.1.0\n",
            "sratoolkit.3.1.0-ubuntu64/bin/srf-load\n",
            "sratoolkit.3.1.0-ubuntu64/bin/vdb-encrypt.3\n",
            "sratoolkit.3.1.0-ubuntu64/bin/srapath-orig.3.1.0\n",
            "sratoolkit.3.1.0-ubuntu64/bin/sra-stat.3\n",
            "sratoolkit.3.1.0-ubuntu64/bin/sra-pileup.3\n",
            "sratoolkit.3.1.0-ubuntu64/bin/illumina-dump.3.1.0\n",
            "sratoolkit.3.1.0-ubuntu64/bin/align-info\n",
            "sratoolkit.3.1.0-ubuntu64/bin/vdb-validate.3.1.0\n",
            "sratoolkit.3.1.0-ubuntu64/bin/sff-dump.3.1.0\n",
            "sratoolkit.3.1.0-ubuntu64/bin/sra-sort.3.1.0\n",
            "sratoolkit.3.1.0-ubuntu64/bin/sra-search.3\n",
            "sratoolkit.3.1.0-ubuntu64/bin/abi-load\n",
            "sratoolkit.3.1.0-ubuntu64/bin/vdb-decrypt.3\n",
            "sratoolkit.3.1.0-ubuntu64/bin/fastq-dump.3\n",
            "sratoolkit.3.1.0-ubuntu64/bin/srapath.3.1.0\n",
            "sratoolkit.3.1.0-ubuntu64/bin/dump-ref-fasta.3\n",
            "sratoolkit.3.1.0-ubuntu64/bin/kar\n",
            "sratoolkit.3.1.0-ubuntu64/bin/dump-ref-fasta\n",
            "sratoolkit.3.1.0-ubuntu64/bin/cg-load\n",
            "sratoolkit.3.1.0-ubuntu64/bin/vdb-copy\n",
            "sratoolkit.3.1.0-ubuntu64/bin/vdb-config.3\n",
            "sratoolkit.3.1.0-ubuntu64/bin/test-sra.3.1.0\n",
            "sratoolkit.3.1.0-ubuntu64/bin/sra-sort-cg.3\n",
            "sratoolkit.3.1.0-ubuntu64/bin/kar.3.1.0\n",
            "sratoolkit.3.1.0-ubuntu64/bin/sra-stat\n",
            "sratoolkit.3.1.0-ubuntu64/bin/vdb-dump-orig.3.1.0\n",
            "sratoolkit.3.1.0-ubuntu64/bin/abi-dump.3\n",
            "sratoolkit.3.1.0-ubuntu64/bin/align-info.3.1.0\n",
            "sratoolkit.3.1.0-ubuntu64/bin/kdbmeta.3.1.0\n",
            "sratoolkit.3.1.0-ubuntu64/bin/abi-load.3.1.0\n",
            "sratoolkit.3.1.0-ubuntu64/bin/align-info.3\n",
            "sratoolkit.3.1.0-ubuntu64/bin/sra-sort\n",
            "sratoolkit.3.1.0-ubuntu64/bin/kdbmeta\n",
            "sratoolkit.3.1.0-ubuntu64/bin/vdb-dump\n",
            "sratoolkit.3.1.0-ubuntu64/bin/sra-pileup\n",
            "sratoolkit.3.1.0-ubuntu64/bin/latf-load.3\n",
            "sratoolkit.3.1.0-ubuntu64/bin/cg-load.3\n",
            "sratoolkit.3.1.0-ubuntu64/bin/prefetch\n",
            "sratoolkit.3.1.0-ubuntu64/bin/fasterq-dump\n",
            "sratoolkit.3.1.0-ubuntu64/bin/sra-search.3.1.0\n",
            "sratoolkit.3.1.0-ubuntu64/bin/pacbio-load.3\n",
            "sratoolkit.3.1.0-ubuntu64/bin/fastq-load.3.1.0\n",
            "sratoolkit.3.1.0-ubuntu64/bin/vdb-unlock.3\n",
            "sratoolkit.3.1.0-ubuntu64/bin/sff-load\n",
            "sratoolkit.3.1.0-ubuntu64/example/\n",
            "sratoolkit.3.1.0-ubuntu64/example/perl/\n",
            "sratoolkit.3.1.0-ubuntu64/example/perl/base-stats.pl\n",
            "sratoolkit.3.1.0-ubuntu64/example/perl/mismatch-stats.pl\n",
            "sratoolkit.3.1.0-ubuntu64/example/perl/gene-lookup.pl\n",
            "sratoolkit.3.1.0-ubuntu64/example/perl/simplefastq.pl\n",
            "sratoolkit.3.1.0-ubuntu64/example/perl/splitfastq.pl\n",
            "sratoolkit.3.1.0-ubuntu64/example/perl/dump-reference.pl\n",
            "sratoolkit.3.1.0-ubuntu64/example/perl/quality-stats.pl\n",
            "sratoolkit.3.1.0-ubuntu64/CHANGES\n",
            "sratoolkit.3.1.0-ubuntu64/README-blastn\n"
          ]
        }
      ],
      "source": [
        "# Run this box as this! It is installing the NCBIs SRA toolkit! This is how we will be dowloading data.\n",
        "!wget https://ftp-trace.ncbi.nlm.nih.gov/sra/sdk/3.2.1/sratoolkit.3.2.1-ubuntu64.tar.gz .\n",
        "!tar -vxzf sratoolkit.3.2.1-ubuntu64.tar.gz\n",
        "!chmod +777 sratoolkit.3.2.1-ubuntu64/bin/fastq-dump"
      ]
    },
    {
      "cell_type": "markdown",
      "metadata": {
        "id": "hpN1ddgGJ6BD"
      },
      "source": []
    },
    {
      "cell_type": "code",
      "execution_count": null,
      "metadata": {
        "colab": {
          "base_uri": "https://localhost:8080/"
        },
        "id": "wg-VCkzSErQQ",
        "outputId": "905accca-bd16-44c5-fad3-88d27ac67136"
      },
      "outputs": [
        {
          "output_type": "stream",
          "name": "stdout",
          "text": [
            "Read 5000000 spots for SRR23972383\n",
            "Written 5000000 spots for SRR23972383\n",
            "Read 5000000 spots for SRR23972384\n",
            "Written 5000000 spots for SRR23972384\n",
            "Read 5000000 spots for SRR23972385\n",
            "Written 5000000 spots for SRR23972385\n",
            "Read 5000000 spots for SRR23972386\n",
            "Written 5000000 spots for SRR23972386\n"
          ]
        }
      ],
      "source": [
        "### Start by downloading the data from the project you are interested in. Since this is a school project we\n",
        "### will be subsampling the data to 5 M reads\n",
        "# Subsample 5 million reads from each SRR run\n",
        "!sratoolkit.3.2.1-ubuntu64/bin/fastq-dump -X 5000000 SRR23972383\n",
        "!sratoolkit.3.2.1-ubuntu64/bin/fastq-dump -X 5000000 SRR23972384\n",
        "!sratoolkit.3.2.1-ubuntu64/bin/fastq-dump -X 5000000 SRR23972385\n",
        "!sratoolkit.3.2.1-ubuntu64/bin/fastq-dump -X 5000000 SRR23972386\n",
        "!sratoolkit.3.2.1-ubuntu64/bin/fastq-dump -X 5000000 SRR23972387\n",
        "!sratoolkit.3.2.1-ubuntu64/bin/fastq-dump -X 5000000 SRR23972388"
      ]
    },
    {
      "cell_type": "code",
      "execution_count": null,
      "metadata": {
        "colab": {
          "background_save": true
        },
        "id": "w7uOhCf9-BNb",
        "outputId": "3b9da7b7-700d-47de-8566-1116c56f8814"
      },
      "outputs": [
        {
          "name": "stdout",
          "output_type": "stream",
          "text": [
            "@SRR23972384.1 A00609:608:H7YMFDSX5:2:1101:1244:1016 length=300\n",
            "CNTATACAATAATTTTGATTAATAACCTGAGAAGTTAAAATCTTGAAAGTGGCAAAAGCAAACCGAGAGAGCATCCCTTACTTATTGGTACCATGTTATCAAGTCACTTTTTCTGGGTAGCCCTGGTTATTAAATCTCCAAATTGTAAATGGGTAGTCTGACACGGTGATTATCCTTTTGAGGCTGAATCCGTTATTAACTTGTTATTTAGGGTTTTACTCCCAGTAGCAAGGGATTCTAAGTTAGTTGCACTTACATGATTATTGTTATTTAAAACTAAGAATAAAGGCTGCATTTTCA\n",
            "+SRR23972384.1 A00609:608:H7YMFDSX5:2:1101:1244:1016 length=300\n",
            "F#FFFFFFFFFFFFFFFFFFFFFFFFFFFFFFFFFFFFFFF:FFFFFFFFFFFFFFFFFFFFFFFFFFF:FFF,FFF,F,F,:F:FFFF:FFFFFFFFFFFFFFFFFFF:FFFFF:FFF:FFFFFF:F,FFFFFFFFFFFFF,FFFFFF:FFFF,FFFFFFFFFFFFFFFFFFFFF:FFFFFFFFFF,FFFFFFFFFFFFFFFFFFFFF:FF,F,FFFFFFFF,FFFFFFFF:FFFFFFFFFFFFFFFFFFFF,FF,FFFFFFF:FFFFFF:FFF,F:FFFFF:F:FFFFFFFFFFFFFF\n",
            "@SRR23972384.2 A00609:608:H7YMFDSX5:2:1101:1506:1031 length=300\n",
            "GNCAGGTGTACTCAAGGATGAGAGAAAGGATGAAGAAAGACACACCCAGGAACACAGCCACACCCGTGATGATGTGGATAAAATGTTCAATTTCTGCAGCAATGGGGGAGATCGGAAGAGCACACGTCTGAACTCCAGTCACATAGCGTCCCCCCATTGCTGCAGAAATTGAACATTTTATCCACATCATCACGGGTGTGGCTGTGTTCCTGGGTGTGTCTTTCTTCATCCTTTCTCTCATCCTTGAGTACACCTGGCAGATCGGAAGAGCGTCGGGTAGGGAAAGAGTGTCTGGAGTAG\n",
            "+SRR23972384.2 A00609:608:H7YMFDSX5:2:1101:1506:1031 length=300\n",
            "F#FFFFFFFFFFFFFFFFFFFFFFFFFFFFFFFFFFFFFFFFFFFFFFFFFFFFFFFFFFFFFFFFFFFFFFFFFFFFFFFFFFFFFFFFF:FFFFFFFF:FFFFFFFFFFFFFFFFFFFFFFFFFFFFFFFFFFFFFFFFFFFFFFFFFFFFFF:FFFFFFFFFF,FFFF:FFF,FFFFFFFFFFFFFF:FFFFFFFFFFFFFFFFFFFFFFF:FFFFFFFFFFFFFFFFFFFFFFFFFFFFFFFFFFFFFFFFFFFFFFFFFFFFFFFFFFFF,F::FFFFF,:FFFFF:,FF:FFFF\n",
            "@SRR23972384.3 A00609:608:H7YMFDSX5:2:1101:4544:1031 length=300\n",
            "CNCAGGGCGTTGCCTTCGAACAGACGCCGTGGGTCCTTCTCATCAAGCGTCAGCAGTTCCCGGGCGGCCTTGCGGATCTTGGCCAGGGTAAATTTGACCCTCCAGACCTCACGTTTGTTCCGGAGCCCATACTCGCCGATCAGCTTCAGCCTTAGGCGCAGACGGGGAAGCGGAGCCAACATGCCAGTGGCCCGGAGCTGGGTTTGTCGCAAAACTTATGTGACCCCGCGGAGACCCTTCGAGAAATCTCGTCTCGACCAAGAGCTGAAGCTGATCGGCGAGTATGGGCTCCGGAACAAA\n",
            "+SRR23972384.3 A00609:608:H7YMFDSX5:2:1101:4544:1031 length=300\n",
            "F#FFFFFFFFFFFFFFFFFFFFFFFFFFFFFFFFFFFFFFFFFFFFFFFFFFFFFFFFFFFFFFFFFFFFFFFFFFFF:FFFFFFFFFFFFFFFFFFFFFFFFFFFFFFFFFF:FFFFFFFFFFFFFFF:,FFFFFFFFFFFFFFFFFFFFFFFFFFFFFFFFFFFFFFFFFFFFFFFFFFFFFFFFFFFFFFFFFFFFFFFFFFFFFFFFFFFF:FFFFFFFFFF:FFFFFFFFFFFFFFFFFFFFFFFFFFFFFFFFFFFF:F:FFFFFFFFFFFFFFFFFFFFFFFFFFFFF:FF::\n",
            "@SRR23972384.4 A00609:608:H7YMFDSX5:2:1101:5376:1031 length=300\n",
            "CNCCCCGGGGCTCCCGCCGGCTTCTCCGGGATCGGTCGCGTTACCGCACTGGACGCCTCGCGGCGCCCATCTCCGCCACTCCGGATTCGGGGATCTGAACCCGACTCCCTTTCGATCGGCCGAGGGCAACGGAGGCCATCGCCCGTCCCTATTCAAACGAGAACTTTGAAGGCCGAAGTGGAGAAGGGTTCCATGTGAACAGCAGTTGAACATGGGTCAGTCGGTCCTGAGAGATGGGCGAGCGCCGTTCCGAAGGGACGGGCGATGGCCTCCGTTGCCCTCGGCCGATCGAAAGGGAGT\n",
            "+SRR23972384.4 A00609:608:H7YMFDSX5:2:1101:5376:1031 length=300\n",
            "F#FFFFFFFFFFFFF:FFFFFFFFFFFFFFFFFFFFFFFFFFFFFFFFF:FFFFFFFFFFFFFF:FFFFFFFFFFFF:FFFFFFF::FFFFF,FFF:FFFFFFFFFFFFFF,:FFFFFFFFFFFFFFFFFFFFFFFF,:FFFFFF,FFF:FFF,F:F,FF:FFFFFFFFFF:FFFFFF,F,FFFFFFF:F:FFFFFFFF:FFFFFFF:FFFFF,FFFFFFFFFFFFFFFFFFFFFFFFFFFFFFFF:FFFFF,FFFF:FFFFFFFFFFFFF:FFFFFFFF:FFFFFFFFFFFFFFFFFFF\n",
            "@SRR23972384.5 A00609:608:H7YMFDSX5:2:1101:8974:1031 length=300\n",
            "CNGAAGAAGGAGGCCTTGCTTGGTGGCAGGCAGGGGCCCCCGGTAGGCGGTGGGGCATAGCCGGCGCTGTGGGCGCTGCTGGGTGAGGCAGGGAGGCTGTTGCCACTGCCATAGGCGAAGCTGCAGTCCTTGCTGTTAGCGCAGTCCTGGCGGCGGCTATGGGGCCGGACAAAGCGTATTCGCCCCAACTAAGCCCTTTACAGGCCAGGACTGCGCTAACAGCAAGGACTGCAGCTTCGCCTATGGCAGTGGCAACAGCCTCCCTGCCTCACCCAGCAGCGCCCACAGCGCCGGCTATGC\n",
            "+SRR23972384.5 A00609:608:H7YMFDSX5:2:1101:8974:1031 length=300\n",
            "F#FFFFFFF::FFFFFFFFF:F:FF:FF:::FFFFFFF:FFF,FFF::FFF:FF::FFFFFFF,F:FFFF::FF:FFFFFF,FFFFFFFFF:FFF:FFFF:FFFFFF:F:FFFFFFF:F,FFFF,FFFFFFF,FFFFF,FFFFFFF,FFFFFFF,FFFFFFFFFFFFF:FFFFF:FFFFFFFFFFFFFFFFFF:FFF:FFFFFFFFFFFFFFFFFFFFFFFFF,FFFFFFFFFFFFFFFFF:FFFF:FF,FFFFFFFFFFFFFFFF:FFF,FF:FF,F,FFFFFFFFFFFFFFFFF,FFF\n",
            "@SRR23972384.6 A00609:608:H7YMFDSX5:2:1101:17454:1031 length=300\n",
            "CNGGCATAATCTTCAAAACCTCATCCTTGAGAGAGGCCCCCAGGAAGAAATCAATGATCTCTGATTCCTTAATGGGCAGGGAGAAGAGATAGATCTCCTCCAGGGACTTGATCTTCATGTCCTTGACCAAGCGGCCCAACTTGGTGACGGGGCCGCGGAGCTCGCGGAGGCAAGGCCGAGGATAAGGAGTGGATGCCCGTCACCAAGTTGGGCCGCTTGGTCAAGGACATGAAGATCAAGTCCCTGGAGGAGATCTATCTCTTCTCCCTGCCCATTAAGGAATCAGAGATCATTGATTTC\n",
            "+SRR23972384.6 A00609:608:H7YMFDSX5:2:1101:17454:1031 length=300\n",
            "F#FFFFFFFFFFFFFFFFFFFFFFF:FFFFFFFFFFFFFFFFFFF,FFF,FFFFFF:FFFFFFFFFFFFFFFFFFFFFFFF:FF:FFFFFFFFFFFFFFFFFFFFFFFFFFFFFFFFFFFFFFFFFFFFFFFFFFFFFFFFFFFFFFFFF:FFFFFFFFFFFFFFFFFFFFFFFFFFFFFFF:FFFFFFFFFFFFFFFFFFFFFFFFFFFFFFFFFFFFFFFFFFFFFFFF:FFFFFFFFFF:FFFFFFFFFFFFFFFFFFFFFFFFFFFFFFFFFFFFFF,FFFFFFFFFFFFFFFFF:\n",
            "@SRR23972384.7 A00609:608:H7YMFDSX5:2:1101:25771:1031 length=300\n",
            "GNTAAATTAAACATAGTTTAAACAACAATGTCTTATGATTTTAAATCATTACAACTCTAAACTTTTGGAGCAGGACAAACACAATTTCAATTTATTATTTTATTTATTAATACCCACTATACCTAAACCATGAAATATAAATGCACACTAAGGGAAGAACTGCATAATTATTTGCCATATTGATGTGCTAGTAAAAATGTCTTACATAATGATGATTTTAAAAAAATAATTTACCGTCACCCCTGAATTGGGAATACACATTTTTGTTTAGTGTGCATTTATATTTCATGGTTTAGGTAT\n",
            "+SRR23972384.7 A00609:608:H7YMFDSX5:2:1101:25771:1031 length=300\n",
            "F#F:FFFFFFFFFFFFFFFFFFFFFFFFFFFFFFFFFFFFFFFFFFFFF:FFFFFFFFFFFFFFFFFFFFFFFFFFFFFFFFFFFFFFFFFFFFFFFFFFFFFFFFFFFFFFFFFFFFFFFFFFFFFFFFFFFFFFFFFFFFFFFFFFF,FFFFFFFFFFFFFFFFF,FFFFFFFFFFFFFFFFFFFFFFFFFFFFFFFFFFFFFFFFFFFFFFFFFFFFFFFFFFFFFFFFFFFF:FFFFFFFFFFFFFFFFFFFFFFFFFF,FFF,:FFFFFFFFFFFFFFFFF:FFFFFFFFFF:F,\n",
            "@SRR23972384.8 A00609:608:H7YMFDSX5:2:1101:2546:1047 length=300\n",
            "CNCTACCTTCTTGTAAGCATATGGTTTCAGGATCTCTTTCACTCCCCTCTCGGGGTGCTTTTCACCTTTCCCTCACGGTACTGGTTCACTATCGGTAAAATGGTAGTATTTAGGCTTACCAAGTGGTCTTGGCAGATTCCGACAAAATTTGGACTTTTGTTAGAGTTACAAAGTTATTGTATAGTAGAAGCTATTGGGAAGTAGCGGCATAGAGGGTGATACCCCCGTATACAAAATGAAATAACCTCGAGAAAGTATCCTGAGTACGGCGAAACATGTGAAATTTTGTCGGAATCTGCC\n",
            "+SRR23972384.8 A00609:608:H7YMFDSX5:2:1101:2546:1047 length=300\n",
            "F#FFFFFFFFFFFFFFFFFFFFFFFFFFFFFFFFFFFFFFFFFFFFFFFFFFFFFFFFFFFFFFFFFFFFFFFFFFFFFFFFFFFFFFFFFFFFFFFFFFFFFFFFFFFFFFFFFFFF,FF:F:FFFFFFFFFFFFFFFFFFFFFFFFFFFFF,F:FF:FFFFF:FFFFFFFFFF:FFFFFFFFFFFFFF:FFFFFFFFF:FF:FF:FF:FFFF:FFFFFF,FFFFFFFFFFFFFFFF,FFF:FFFFFFFF:FFFF:FF,F:FFFFFFFFFF:FFFFFFFFFFFFFFFFFFFFFFFFFFF\n",
            "@SRR23972384.9 A00609:608:H7YMFDSX5:2:1101:4896:1047 length=300\n",
            "CNCTCTTTTCGCTGGGGATGTCTTCCTTGCAGGCCGACTTGAGCTGTTCTAGATCTTCAAGGGTGATGTTGTTGGTCAGGTCTTGCAGGAGGGTCCCGTACTCAGCCATGACGCCTCTGGAGCTGAGCGCTCAGGGCGCGGGCACTCCTGAAGAGGCGGCGGCGGCGGCAGAAGCGGCGGCGGCGGCGGCGGGAGCCGAGGAGGAGGTTCCGGACGCTGCTTAGGAACCGGGGACTCAGGAGTGCCCGCGCCCTGAGCGCTCAGCTCCAGAGGCGTCATGGCTGAGTACGGGACCCTCCT\n",
            "+SRR23972384.9 A00609:608:H7YMFDSX5:2:1101:4896:1047 length=300\n",
            "F#FFFFFFFFFF:FFFFFFFFFFFFFFFFFFFFFFFFFFFFFFFFF,FFFFFFFFFFFFFFFFFFFFFFFFFFFFFFFFFFFFFFFFFFFFFFFFFFFFFFFFFFFFF:FFFFFFFFFFFFFFFFFFFFFFFFFFFFFFFFFF:FFFFFFFFFFF:FFFFFFFFFFFFFFFF,FFFFFFFFFFFFFFFFFFFFF:FFFFFFFFFFFFFFFFFFF:FFFFFFFFFFFFFFFFFFFFFFFFFFF:FFFFFFFF:FF:FFFFFFFFFFFFFFFFFFFFFFF,FFFFFFFF,FFFFFFFFFFFF\n",
            "@SRR23972384.10 A00609:608:H7YMFDSX5:2:1101:9833:1047 length=300\n",
            "GNTACCTGGAAGAAGAGTCCCCCTTCTGCAAACGTGCTCTGTCCGGATAGCTACGCCTATTGGACAGGTGCACCCCATTAAATGGAAGCAGTGGTTATGTCTCCCCACCCTCCTCCCCACAAATGCACTAAAAAGCTTCAGTGATAGGGATATTAATTTCTTCACACCTACCCTCCTTTTTTTCCCTATCACTGAAGCTTTTTAGTGCATTAGTGGGGAGGAGGGTGGGGATACATAACCACTGCTTCAATTTAATGGGGTGCACCTGACCAATCGGAGTAGCTATCAGGACAGAGCACG\n",
            "+SRR23972384.10 A00609:608:H7YMFDSX5:2:1101:9833:1047 length=300\n",
            ",#,FF,FF:F::FFFF:FFFFFFF:,F:FFFFF:FFFFFFF,F,FFFFF:FFFFFF:,F,FFFFF,F:FFFFFFFFFFFF:FFFFF:FFFF,FFFFF:FFFFF:FFFFF::F::FFFFFF::FFFFFF,F:FFF:,,FF:FF,FFFFFF:,FFFFF,FF,F,FF:FF,,F:FF:F,F,FFFF::,:F,:FF,FF:FF,,,:,F,,,,,FF:FFFF:,FFFFF:FF:,FFFF,,,,,:FFFFF,FF,FF,FF,,:FF:,,,FFF:F,,,,:FFFF,,,,F,FFFFFF,,::FF,,FFFFFF\n",
            "@SRR23972384.11 A00609:608:H7YMFDSX5:2:1101:13684:1047 length=300\n",
            "GNTGCAACTTGTCCAAATTTTCCAAGTTCACTTTGATGATCTGAGATCTCAAAGTAGGAGTTGGTCTCCCAGTAGTCACAGTGGTGACTCTCCTTTCCTGCCCTTGAGGCAAGTTTAGCTGCCTGGAGGGTACACTTGTGGAGACAGGTAGCCACAGCAGGACGAGACAGACCTTGTTCTGCCCTCTTTGTTTGCCCTACCTGTCTCCACAAGTGTACCCTCCAGGCAGCTAAACTTGCCTCAAGGGCAGGAAAGGAGAGTCACCACTGTGACTACTGGGAGACCAACTCCTACTTTGAG\n",
            "+SRR23972384.11 A00609:608:H7YMFDSX5:2:1101:13684:1047 length=300\n",
            "F#FFFFFFFFFFFFFFFFFFFFFFFFFFFFFFFFF:FFFFFFFFFFFFFFFF:FFFFFFFFFFFFFFFFFFFFFFFFFFFFFFFFFFFFFFFFFFFFFFFFFFFFFFFFFFFFFFFFFFFFFFFFFFFFFFFFFFFFFFFFFFFFFFFFFFFFFFFFFFFFFFFFFFFFFFFFFFFFFFFFFFFFFFFFFFFFFFFFFFFFFFFFFFFFFFFFFFFFFFFFFFFFFFFFFFFFFFFFFFFFFFFFFFFFFFFFFFFFFFFFFFFFFFFFFFFFFFFFFFFFFFFFFFFFFFFFFFFFFFF\n",
            "@SRR23972384.12 A00609:608:H7YMFDSX5:2:1101:18059:1047 length=300\n",
            "GNCAGGAGCTTATGTTGTTTATGCGGGGAAACGCCATATCGGGGGCACCGATTATTAGGGGAACTAGTCAGTTGCCAAAGCCTCCGATTATGATGGGTATTACTATGAAGAAGATTATTACAAATGCATGGGCTGTGACGATAACGTTGTATTCTCTACAAACCACAAAGACATTGGAACACTATACCTATTATTCGGCGCATGAGCTGGAGTCCTAGGCACAGCTCTAAGCCTCCTTATTCGAGCCGAGCTGGGCCAGCCAGGCAACCTTCTAGGTAACGACCACATCTACAACGTTAT\n",
            "+SRR23972384.12 A00609:608:H7YMFDSX5:2:1101:18059:1047 length=300\n",
            "F#FFFFFFFFFFFFFFFFFFFFFFFFFFFFFFFFFFFFFFFFFFFFFFFFFF:FFFFFFFFFFFFFFFFFFFFFFFFFFFFFFFFFFFFFFFFFFFFFFFFFFFFFFFFFFFFFFFFFFFFF,FFFFFFFFFFFFFFFFF:F:FF:FFFFFFFFFFFFFFF:FFFFFFFFFFFFFFFFFFFFFF,FFFFFFFFFFF:FFFFFFFFFFFFFFFFFF::FFFFFFFFFFFFFFFFFFFFFFFFFFFFFFFFFFFFFFFFFFFFFFFFFFFFFFFFFFFF,:FFFFFFFFFFF:FFFFFFFFF\n",
            "@SRR23972384.13 A00609:608:H7YMFDSX5:2:1101:18403:1047 length=300\n",
            "CNCAATTGATATAGAGTAAGTCAATGTTCTTTCTCAGGCACTGACGATCTGTGACCTGTAGCCCTTTTTACTTTGAACAACCTAAATAAGCATTCATGTAAAGTTTTCATTACATTTTGCCACTCATTCTCACTCGCACCCACTCGCCATGGGATCTGCTGCTGCATTAAATCGGGAAAGAAAATGTGAAGATTTCATTTGGAATCACAGAAAATGCCCAAATGAGGTCAAGATGGCGAGTGGGTGCGAGTGAGAATGAGTGGCAAAATGTAATGAAAACTTTACATGAATGCTTATTTA\n",
            "+SRR23972384.13 A00609:608:H7YMFDSX5:2:1101:18403:1047 length=300\n",
            "F#FFFFFFFFFFFFFFFFFFFFFFFFFFFFFFFFFFFFFFFFF:FFFFFFFFFFFFFFFFFFFFFFFFFFFFFFFFFFFFFFFFFFFFFFFFFFFFFFFFFFFFFFFFFFFFFFFFFFFFFFFFFFFFFFF:FF:FFFFFFFFFFFFFFFFFFFFFFFFFFFFFFFFFFFFFFFFFFFFFFFFFFFFFFFFFFFFFFFFFFFFFFFFFFFFFFFFFFFFFFFFFFFFFFFFFFFFFFFFFFFFFFFFFFFFFFFFFFF:FFFFFFFFFFFFFFFFFFFFFFFFFFFFFFFFFFFFFFFFF\n",
            "@SRR23972384.14 A00609:608:H7YMFDSX5:2:1101:22797:1047 length=300\n",
            "CNTAGTTTGAGATCTCTGTGCAAGATTTCTTGTTCATGAAGGTATTTCAGTCCAGACACAATCTGCCTGAGGTAGTATCGAACTTCTGGCTCTGTCAACACCTTTCTTGCTTTCAAAATATGAGCCATTGACCTTCTACTGCAGTATTCCAGAAAACATTTACATTCTCTTGGAATACTGCAGTAGAAGGTCAATGGCTCATATTTTGAAAGCAAGAAAGGTGTTGACAGAGCCAGAAGTTCGATACTACCTCAGGCAGATTGTGTCTGGACTGAAATACCTTCATGAACAAGAAATCTT\n",
            "+SRR23972384.14 A00609:608:H7YMFDSX5:2:1101:22797:1047 length=300\n",
            "F#FFFFFFF:FFFFFFFFFFFFFFFFFF:FFFFFFFFFFF:FFFFFFFFFFFFFFFFFFFFFFFFFFFFFFFFFFFFFFFFFFFFFFFFFFFFFFFFFFFFFFFFFFFFFFFFFFFFF,FFFFFFF:FFFFFFFFFF:FFFFFFFFFFFFFFFFFFFFFFFFFFFFFFFFFFFF,FFFFFFFFFFFFFFFFFFFFFFFFFFFFFFFFFFF,FFFFFFFFFFFFFFFFFFFFFFF:FFFFFFFFFFFFFFFFFFFFFFFFFFFFFFFFFFFFFFFFFFFFFFFFFFFF,FFFFFFFFFFFF\n",
            "@SRR23972384.15 A00609:608:H7YMFDSX5:2:1101:23484:1047 length=300\n",
            "GNGGAGGGACCGATGTTTTCTGAGTTAGTTGAAGAAAAAATAGCATTTTGGATTTCAGCACCACAGCAGGCGTCCCAGGAGGTGCAATCGGCGGCGCGCTGGGAGGGATCGTCAGGCAAAACTGAGCATTCCATTTTAGCTGTGTTGCTTCACCATTTAAAGCTAATACGTTAATAGCCTTCACCAAGCTATTAGGAGCTCCTACACACATCCTCAGGGATTGTGTGCACATTATGAAGCTGGAGCTGTTCCCTGACCAAGCAACACAGCTAAAATGGAATGATCAGTTTTGCCTGACGA\n",
            "+SRR23972384.15 A00609:608:H7YMFDSX5:2:1101:23484:1047 length=300\n",
            "F#FFFFFFFFFFFFFFFFFFFFFFFFFFFFF:FF:FFFFFFFFFFFFFFFFFFFFFFFFFFFFFFFFFFFFFFFFFFFFFFFFFFFFFFFFFFFFFFFFFFFFFFFFFFFFFFFFFFFF:FFFFF,FFFFFFFFFFFFFFFFFFFFF:FFFF:FFFFFFFFFFFFFFFFFFFFFFFFFFFFFFF:FFFFFFFFFFFFFFFFFFFFFFFFFFFFFFFFFFFFFFFFFFFFFFFFFFFFFFFFFFFFFFFFFFFFFFFFFFFFFFFFFFFFFFFFFFFFFFFFF,FFFFFFFFFFFFFFF:F\n",
            "@SRR23972384.16 A00609:608:H7YMFDSX5:2:1101:27805:1047 length=300\n",
            "GNTTTCAGGAGTTTGTAGTCGTGTAGAGAGGGGCCACCAGGGGCCCGGCCGTATCCCGTAGCTGTGTATGAGTCGTCGTGGTAGAAGGGCTGTTCCATTTTAGTGCACATCCGGGCGGCCCAGGCGGTCTGGGGAGGGTCCCTGCGGGGCCGACGCCAGGAAAGCTATCGCGCCAGAGAGGGCGACGGGGGCTCGGGAAGCCTGACAGGGCTTTTGCGCACAGCTGCCGGCTGGCTGCTACCCGCCCGCGCCAGCCCCCGAGAACGCGCGACCAGGCACCCAGTCCGGTCACCGCAGCGG\n",
            "+SRR23972384.16 A00609:608:H7YMFDSX5:2:1101:27805:1047 length=300\n",
            "F#FFFFFFF,F:FFFFFFFFF,FFFFFFFFFFFFFFFFFFFFFFFFFFFFFFFFFFFFFFFFFFFFF,FFFFFFFFFFFFFFFFFFFFFFFFFFFFFFFFFFFFFFFFFFFFFFFFFFFFFFFFFFFFFFFFFFFFFFFFFFFFFFFFFFFFFFFFFFFF:FFFFFFFFFFFFFFFFF,FFFFFFFFFFFFFFFFFFFFFFFFFFFFFFFFF:FFFFFF:FFFFFFFFFFFFFFFFFFFFFFFFFFFFFFFFFFFFFFFFFFFFFFFFFFFFFFFFFFFFFFFFFFFFFFFFFFFFFFFF\n",
            "@SRR23972384.17 A00609:608:H7YMFDSX5:2:1101:30029:1047 length=300\n",
            "CNAACATATTCTGAAAGCTCTTTCAAGCCTGCCTCAGTAAAATATTTTGTGAAGTGTTCAACACTTTGCTTATTGGCAGGAAAGAGTTCCATCAGTCTGTTATCCATGCTGACTTTCCGAAGACTTGCAGCTACTGCATTGATATCTTTTCGCTACAAATACCTGGAGAAAGGTTTTGAAGATGAAGTAAAAAAGCTGCTGCTGTTCTTGAAGGGTTTTTCAGAGTCGGAGAGGAACAAGCTAGCTATGTTGACTGGTGTTCTTCTGGCTAATGGAACACTTAATGCATCCATTCTTAAT\n",
            "+SRR23972384.17 A00609:608:H7YMFDSX5:2:1101:30029:1047 length=300\n",
            "F#FFFFFF:FFFFFFFFFFFFFFFFFFFFFFFFFFFFFFF,FFFF,FFFFFF:FFFFFFFFFFFFFFF:FFFFFFFFFFFFF:FFFFFFF:FFFFFFFFFFFFFFFFFFFFFFFFFFFFFFFFFFFFFFFFFFFFFFFFFFFFFFFFFFFFFFFFFFFFFFFFFFFFFFFFFFFFFFF:FFFFFFFFFFFFFFFFFFFFFFFFFFFFFFFFFFFFFFFFFFFFFFFFFFFFFFFFFFFFFFFFFFF,FFFFFFFFFFFFFF:FFFFFFFFFFFFFFFFFFFFFFFFFFFFFFFFFFFFFF\n",
            "@SRR23972384.18 A00609:608:H7YMFDSX5:2:1101:30933:1047 length=300\n",
            "GNTAATTCACCAACCCAGCTGAGTTCTAGTTCAAAAGCTTTATCCTTAACTTCGTCATGTACTATGTAAATTATTTTTGCAACTTCTTTAACGATATCACGGCAGGTCATTTCTTTCATCTGAAGCTTCTCTATTTCCGTCTTTGCAGCTTGACCCATCAGGTGTTTCATACGGTTATTGGGGCTGTGCCATCGGCAAAGCCAGGCAAGCTGCAAAGACGGAAATAGAGAAGCTTCAGATGAAAGAAATGACCTGCCGTGATATCGTTAAAGAAGTTGCAAAAATAATTTACATAGTACA\n",
            "+SRR23972384.18 A00609:608:H7YMFDSX5:2:1101:30933:1047 length=300\n",
            "F#FFFFFFFFFFFFFFFFFFFFFFFFFFFFFFFFFFFFFFFFFFFFFFFFFFFFFFFFFFFFFFFFF::FFFFFFFFFFFFFFFFFFFFFFFFFFFFFFFFFF:FFFFFFFFFFFFFFFFFFFFFFFFFFFF:FFFFFFFFFFFFFFFFFFFFFFFFFFFFFFFFFFFFFF:FFFFFFFFFFFFFFFFFFFFFF:FFFFFFFFFFFF:FFFFFF:FFFFFFFFFFFFFFFFFFFFFFFFFFFFFFFFFFFFFFFFFFFFFFFFFFFF:F:FFFFFFFFFFFFFFFFFFFFFFFFFFFFFF\n",
            "@SRR23972384.19 A00609:608:H7YMFDSX5:2:1101:32362:1047 length=300\n",
            "CNGCAATCCACTCCTCACATTGGGCCATTATCTCAACTCTTTTCAAGTAAAAATGTTTGTGTATTACCTCTTTAAAACATGGTGAAGGGTTTCTGATTTGTTCTAGCATTGCCCACTTAACTGTTGCTTGTCGAATGTTTCCATCATATTAGTAGCTGAGCCTTATTTTAATGAACCGGGATATGAACGGTCTAGAGGCACTCCCAGTGGCACACAGAGTTCTCGAGAATATGATGGAAACATTCGACAAGCAACAGTTAAGTGGGCAATGCTAGAACAAATCAGAAACCCTTCACCATG\n",
            "+SRR23972384.19 A00609:608:H7YMFDSX5:2:1101:32362:1047 length=300\n",
            "F#FFFFFFFFFFFFFFFFFFFFFFFFFFFFFFFFFFFFFFFFFFFFFFFFFFFFFFFFFFFFFFFF:FFFFFFFFFFFFFFFFF:FFFFFFFFFF:FFFFFFFFFFFFFFFFFFFFFFFFFFFFFFFFFFFFFFFFFFFFFFFFFFFFFFFFFFFFFFFFFF:FFFFFFFFFFFFFFFFFFFFFFFFFFFFFFFFFFFFFFFFFFFFFFFFFFFF,FFF:FFFFFFFFFFFFFFFFFF:FFFFFFFFFFFFFFFFFFFFFFFFFFFFFFFFFFFFFFFFFFFFFFFFFFFFFFFFFFFFF\n",
            "@SRR23972384.20 A00609:608:H7YMFDSX5:2:1101:2013:1063 length=300\n",
            "CTTCTACTTCAGATACCAACAACATATAATGAAGGGCCTCCATAAGAGTTTCCCTGAGATTTAATCTTTTTTCTATAAGTTGATCATGTTCCTTAAGAAAGGTGCAGAGAAACAAACTGAGATTTTGAATGAAGTTCTGAGATCGGAAGACAGAACTTCATTCAAAATCTCAGTTTGTTTCTCTGCACCTTTCTTAAGGAACATGATCAACTTATAGAAAAAAGATTAAATCTCAGGGAAACTCTTATGGAGGCCCTTCAGTATATGTTGTTGGTATCTGAAGTAGAAGAGATCGGAAGA\n",
            "+SRR23972384.20 A00609:608:H7YMFDSX5:2:1101:2013:1063 length=300\n",
            "FFFFFFFFFFFFFFFFFFFFFFFFFFFFFFFFFFFFFFFFFFFFFFFFFFFFFFFFFFFFFFFFFFFFFFFFFFFFFF:FFFFFFFFFFFFFFFFFFFFFF:FFFFFFFFFFFF:FFFFFFFFFFFF:FFFFFFFFFFFFFF:FFFF,FFFFFF:FFFFFFFFFFFFFFFFFFFFFFFFFFFFFFFFFFFFFFFFFFFFFFFFFFFFFFFFFFFFFFFFFFFFFFF:FFFFFFFFFFFFFFFFFF:FFFFFFFFFFF::,,F:FFFF::FF,FFF:FF:FFFFFFFFFFFFF:FFFFFFF\n",
            "@SRR23972384.21 A00609:608:H7YMFDSX5:2:1101:2573:1063 length=300\n",
            "CTCTACCTTCTTGTAAGCATATGGTTTCAGGATCTCTTTCACTCCCCTCTCGGGGTGCTTTTCACCTTTCCCTCACGGTACTGGTTCACTATCGGTAAAATGGTAGTATTTAGGCTTACCAAGTGGTCTTGGCAGATTCCGACAAACTTTGGACTTTTGTTAGAGTTACAAAGTTATTGTATAGTAGAAGCTATTGGGAAGTAGCGGCATAGAGGGTGATACCCCCGTATACAAAATGCAATAACCTCGAGAAAGTATCCTGAGTACGGCGAAACATGTGAAATTTTGTCGGAATCTGCC\n",
            "+SRR23972384.21 A00609:608:H7YMFDSX5:2:1101:2573:1063 length=300\n",
            "FFF:FFF,FFFFFFFFFFFF:FFFFFFFFFFFFFFFFFFFFFFFFFFFFFFFF:FFFFFFFFF:FFF:FFFFFFF:FFFFFF:FFFFFFFF,FFF:FFFFFFFFFFFF:FFFFFFFFFFFFFF:FFFFFFF,FFFFFFFFFFF,FF,F,FFFFFFFFF:FFFFFFFFFFFFFFFFFFFFFFF:FFFFF:FFFFFFFFFFFFFFFFFFFFFFFFFFFFFFFFF,FFFFFFFFFFFF:FFFF:FFFF,FFFFFFFFFF,FFFFFFFFFFFFFFF:F:FFFFFFFFF:FFFFFFFFFFF:FFF\n",
            "@SRR23972384.22 A00609:608:H7YMFDSX5:2:1101:4399:1063 length=300\n",
            "GGCAGACAGACATCGATTTGTTTGAGATAGTATTATATAATTGGTGGCATGCACTGAACATTGTGCTTTTTTCCCACATTTTTCTCATTTCTAAATATATTCCATGTAATTCTGTTACTAGACAAAATCGCCCTTACTTCTCTTATTTTGGAACGGATGTCTTACTTTTTTGATCCTGTCTCAAAGAGGTAATATGGTGTGAATTGATTTACATTGGTTTTATCCCTTCTCCAGGTTGGCATTGCTCATTTTAGTAAGACTTAAATGGCTGGTATCACCTTAAAGTTGCGTATTTCTGAA\n",
            "+SRR23972384.22 A00609:608:H7YMFDSX5:2:1101:4399:1063 length=300\n",
            "FFFFFFFFFFFFFFFFFFFFFFFFFFFFFFFFFFFFFFFFFFFFFFFFFFFFFFFFFFFFFFFFFFFFFFFFFFFFFFFFFFFFFFFF:FFFFFFFFFFFFFFFFFFFFFFFFFFFFFFFFFFFFFFFFFFFFFFF:FFFFFFFFFFFFF:FFFFFFFFFFFFFFFFFFFFFFFFFFFFFFF:FFFFFFFFF:FF,FFFFFFFF:FFFFFFFFFFFFFFFFFFFFFFFFFFFFFFFFFFFFFFFFFFFFFF:FFFF:FF:FFF,:FF:FFFFFF,FFFF:FF::F,FFF:FF:FFFFF:F\n",
            "@SRR23972384.23 A00609:608:H7YMFDSX5:2:1101:4652:1063 length=300\n",
            "GGGAGAAGCTGGACTGATGTCTTGGCAGATGTGCCCTCATTTGACAAAGGTCAGGAAGGAATTCTAATGTTTCCCACATACCAGAGTGAGTTTTTAGGCCCCTCCTGTCTCTCCTCTTCTCCTTCAGTGAAGAGGACTAGTTAGAATAGCCAACTGTTCTCCTAAAATACCTATGAACCACTGTAATCATTTCCAGTCCCTGATGCCCCTCTTCAACCTCATTTTTCTCCATACCTCTGCTATTCTAACTATTCCTCTTCACTGAAGGAGAAGAGGAGAGACAGGAGGGGCCTAAAAACT\n",
            "+SRR23972384.23 A00609:608:H7YMFDSX5:2:1101:4652:1063 length=300\n",
            "FFFFFFFFFFFFFFFFFFFFFFFFFFFFFFFFFFFFFFFFFFFFFFF:FFFFFFFFFFFFFFFFFFFFFFFFFFFFFFFFFFFFFFFFFFFFFFFFF:FFF:FFFFFFFFFFFFFFFFFFFFFFFFFFFFFFFF:F,FFFFFF,:FFFFFFFFFFFFFFFFFFFFFFFFFFFFFFFFFFFFFFFFFFFFFFFFFFFFFFFFFFFFFFFFFFFFFFFFFFFFFFFFFFFFFFFFFFFFFFFFFFFFFFFFFFFFFFFFFFFFFFFFFFFFFFFFFFFFFFFFFFFFFFFFFFFFFFFFFFF\n",
            "@SRR23972384.24 A00609:608:H7YMFDSX5:2:1101:7328:1063 length=300\n",
            "TTTCAATACATGCAATAATAGTCTGTTGCCCATCGATAGTTTTAGCATAAACAGTACAGAAGCCGTTGGAATAATGGTCTTTCACATAGGCTCTTAAAGCACTGTCACAGGATTCTCTCCAAGACTTCAGACCTCCATCTGCTTCTTCTGGTATAACATGGATCAGTTCACGCCTGTGAAGATAGAAGGATATGAAGATCAGGTCTTAATTACAGAGCACGGTGACCTGGGTAATAGCAGATTTTTAGATCCAAGAAACAAAATTTCCTTTAAATTTGACCACTTACGGAAAGAAGCAAG\n",
            "+SRR23972384.24 A00609:608:H7YMFDSX5:2:1101:7328:1063 length=300\n",
            "FFFFFFFFFFFFFFFFFFFFFFFFFFFFFFFFFFFFFFFFFFFFFFFFFFFFFFFFFFFFFFFFFFFFFFFFFFFFFFFFFFFFFFFFFFF:FFFFF:FF:FFFFFFFFFFFFFFFFFFFFFFFFFFF:F:FFFFFFFFFFFFFFFFFFFFFFFFFFFFFF:FFFFFFFFFFF:FFFFFFFF:FFF,FFFFFFFFFF:FFFFFFFFFFFFFFFFFFFFFFFFFFFF:FFFFFF:FFFFFFFFFFFFFFFFFFFFFFFFFFFFFFFFF:F:FFFFFFFFFFFFFFF:FFF:FFFFFFFFFF\n",
            "@SRR23972384.25 A00609:608:H7YMFDSX5:2:1101:10673:1063 length=300\n",
            "GAGGCATGGTCAGTATGGGCTTGAGGGCGGACCTAGATTCTTAACTGGAAGTTTAAGAAGTGATCCAATCCCAGTCTTGCCTTCAGAAAGGCCAAGTTGAATCCATTTTTCTGCCAGGGCAACTGAGGCCCAAAGCTCAAGAAGAACCTGATTTTGAAGGGTGGACATTAGGGTAGGGTGAGGTCAACCTAATACTGACTTGTCAGTATCTCCAGCTCTGATTACCTTTGAAGTGTTCAGAAGAGACATTGTCTTCTACTGTTCTGCCAGGTTCTTCTTGAGCTTTGGGCCTCAGTTGCC\n",
            "+SRR23972384.25 A00609:608:H7YMFDSX5:2:1101:10673:1063 length=300\n",
            "FFFFFFFFFFFFF:FFFFFFFFFFFFFFFFFFFFFFFFFFFFFFFFFFFFFFFFFFFFFFFFFFFFFFFFFFFFFFFFFFFFFFFFFFFFFFFFFFFFFFFFFFFFFFFFFFFFFFFFFFFFFFFFFFFFFFFFFFFFFFFFFFFFFFFFFFFFFFFFFFFFFFFFFFFFFFFFFFFFFFFFFFFFFFFFFFFFFFFFFFFFFFFFFFFFFFFFFFFFFFFFFFFFFFFFFFFFFFFFFFFFFFFFFFFFFFFFFFFFFFFFFFFFFF:FFFFFFFFFFFFFFFFFFFFFFFFFF:FFFF\n"
          ]
        }
      ],
      "source": [
        "#Now you need to run FASTQC on all of the FASTQ files\n",
        "#Run FASTQC so that you can:\n",
        "#Check quality before alignment or assembly, Detect problems early — bad base quality, adapter contamination, etc, Decide if you need to trim or filter reads.\n",
        "!head -100 SRR23972384.fastq"
      ]
    },
    {
      "cell_type": "code",
      "execution_count": null,
      "metadata": {
        "colab": {
          "background_save": true
        },
        "id": "6mdW7xH0FY4X",
        "outputId": "45950f9f-e030-48b5-de75-a58dbfe24c01"
      },
      "outputs": [
        {
          "name": "stdout",
          "output_type": "stream",
          "text": [
            "--2025-04-16 20:51:28--  https://www.bioinformatics.babraham.ac.uk/projects/fastqc/fastqc_v0.11.9.zip\n",
            "Resolving www.bioinformatics.babraham.ac.uk (www.bioinformatics.babraham.ac.uk)... 149.155.133.4\n",
            "Connecting to www.bioinformatics.babraham.ac.uk (www.bioinformatics.babraham.ac.uk)|149.155.133.4|:443... connected.\n",
            "HTTP request sent, awaiting response... 200 OK\n",
            "Length: 10249221 (9.8M) [application/zip]\n",
            "Saving to: ‘fastqc_v0.11.9.zip’\n",
            "\n",
            "fastqc_v0.11.9.zip  100%[===================>]   9.77M  6.95MB/s    in 1.4s    \n",
            "\n",
            "2025-04-16 20:51:30 (6.95 MB/s) - ‘fastqc_v0.11.9.zip’ saved [10249221/10249221]\n",
            "\n"
          ]
        }
      ],
      "source": [
        "#To get FastQC onto the files\n",
        "!wget https://www.bioinformatics.babraham.ac.uk/projects/fastqc/fastqc_v0.11.9.zip"
      ]
    },
    {
      "cell_type": "code",
      "execution_count": null,
      "metadata": {
        "id": "3i-K16dzEwiw",
        "colab": {
          "base_uri": "https://localhost:8080/"
        },
        "outputId": "96c00b15-9519-42d3-8ad0-7ff688de39c6"
      },
      "outputs": [
        {
          "metadata": {
            "tags": null
          },
          "name": "stdout",
          "output_type": "stream",
          "text": [
            "Archive:  fastqc_v0.11.9.zip\n",
            "replace FastQC/cisd-jhdf5.jar? [y]es, [n]o, [A]ll, [N]one, [r]ename: "
          ]
        }
      ],
      "source": [
        "!unzip fastqc_v0.11.9.zip"
      ]
    },
    {
      "cell_type": "code",
      "execution_count": null,
      "metadata": {
        "colab": {
          "base_uri": "https://localhost:8080/"
        },
        "id": "VIX8zkx9F5Hu",
        "outputId": "b71a3e13-10d5-423c-d324-01605065814c"
      },
      "outputs": [
        {
          "name": "stdout",
          "output_type": "stream",
          "text": [
            "cisd-jhdf5.jar\t INSTALL.txt\t    net\t\t       run_fastqc.bat\n",
            "Configuration\t jbzip2-0.9.jar     org\t\t       sam-1.103.jar\n",
            "fastqc\t\t LICENSE\t    README.md\t       Templates\n",
            "fastqc_icon.ico  LICENSE_JHDF5.txt  README.txt\t       uk\n",
            "Help\t\t LICENSE.txt\t    RELEASE_NOTES.txt\n"
          ]
        }
      ],
      "source": [
        "!ls FastQC/"
      ]
    },
    {
      "cell_type": "code",
      "execution_count": null,
      "metadata": {
        "id": "pTkHkr1VEuf-"
      },
      "outputs": [],
      "source": [
        "!chmod +x FastQC/fastqc"
      ]
    },
    {
      "cell_type": "code",
      "execution_count": null,
      "metadata": {
        "colab": {
          "base_uri": "https://localhost:8080/"
        },
        "id": "fXBi_ac5AeMR",
        "outputId": "7687029d-1d48-4033-c024-ef2236cfaabd"
      },
      "outputs": [
        {
          "name": "stdout",
          "output_type": "stream",
          "text": [
            "FastQC v0.11.9\n"
          ]
        }
      ],
      "source": [
        "!./FastQC/fastqc --version"
      ]
    },
    {
      "cell_type": "markdown",
      "metadata": {
        "id": "mvBVx19hAjd8"
      },
      "source": [
        "\n",
        "\n",
        "\n",
        "Let's QC our FASTQ Files\n"
      ]
    },
    {
      "cell_type": "code",
      "execution_count": null,
      "metadata": {
        "colab": {
          "base_uri": "https://localhost:8080/"
        },
        "id": "9vSby6sRGL9L",
        "outputId": "52463e43-37cc-4a2e-b549-5d977fafd270"
      },
      "outputs": [
        {
          "name": "stdout",
          "output_type": "stream",
          "text": [
            "Skipping 'SRR23972383.fastq' which didn't exist, or couldn't be read\n"
          ]
        }
      ],
      "source": [
        "!./FastQC/fastqc SRR23972383.fastq"
      ]
    },
    {
      "cell_type": "code",
      "execution_count": null,
      "metadata": {
        "colab": {
          "base_uri": "https://localhost:8080/"
        },
        "id": "at1--ctxGXhU",
        "outputId": "15fc22ae-f34d-446d-cb89-0141129b725f"
      },
      "outputs": [
        {
          "name": "stdout",
          "output_type": "stream",
          "text": [
            "Skipping 'SRR23972384.fastq' which didn't exist, or couldn't be read\n"
          ]
        }
      ],
      "source": [
        "!./FastQC/fastqc SRR23972384.fastq"
      ]
    },
    {
      "cell_type": "code",
      "execution_count": null,
      "metadata": {
        "colab": {
          "base_uri": "https://localhost:8080/"
        },
        "id": "0chyIHSoGa9s",
        "outputId": "7b6fa5b0-2eeb-47b5-a8de-4beb89f4566c"
      },
      "outputs": [
        {
          "name": "stdout",
          "output_type": "stream",
          "text": [
            "Skipping 'SRR23972385.fastq' which didn't exist, or couldn't be read\n"
          ]
        }
      ],
      "source": [
        "!./FastQC/fastqc SRR23972385.fastq"
      ]
    },
    {
      "cell_type": "code",
      "execution_count": null,
      "metadata": {
        "colab": {
          "base_uri": "https://localhost:8080/"
        },
        "id": "zJ_9eVc2GcbB",
        "outputId": "7a1022a7-f6d1-4746-89f6-70da70dcc98f"
      },
      "outputs": [
        {
          "name": "stdout",
          "output_type": "stream",
          "text": [
            "Skipping 'SRR23972386.fastq' which didn't exist, or couldn't be read\n"
          ]
        }
      ],
      "source": [
        "!./FastQC/fastqc SRR23972386.fastq"
      ]
    },
    {
      "cell_type": "code",
      "execution_count": null,
      "metadata": {
        "colab": {
          "base_uri": "https://localhost:8080/"
        },
        "id": "oi-ObfHSGdm0",
        "outputId": "56027943-de7a-4208-9c4a-20a313431efa"
      },
      "outputs": [
        {
          "name": "stdout",
          "output_type": "stream",
          "text": [
            "Skipping 'SRR23972387.fastq' which didn't exist, or couldn't be read\n"
          ]
        }
      ],
      "source": [
        "!./FastQC/fastqc SRR23972387.fastq"
      ]
    },
    {
      "cell_type": "code",
      "execution_count": null,
      "metadata": {
        "colab": {
          "base_uri": "https://localhost:8080/"
        },
        "id": "aVqtLLfEGfw2",
        "outputId": "2d14c9d9-cbeb-49c5-bd93-11b44121c696"
      },
      "outputs": [
        {
          "name": "stdout",
          "output_type": "stream",
          "text": [
            "Skipping 'SRR23972388.fastq' which didn't exist, or couldn't be read\n"
          ]
        }
      ],
      "source": [
        "!./FastQC/fastqc SRR23972388.fastq"
      ]
    },
    {
      "cell_type": "markdown",
      "metadata": {
        "id": "GzrhqZgG_nZ9"
      },
      "source": [
        "Let's rename the files to give them more descriptive labels\n",
        "\n",
        "|ACCESSION ID | Sample Name |\n",
        "|---|---|\n",
        "|SRR23972383   |  TT_Cultured_01 |\n",
        "|SRR23972384   |  TT_Cultured_02 |\n",
        "|SRR23972385   |  TT_Cultured_03 |\n",
        "|SRR23972386   |  Untreated_01 |\n",
        "|SRR23972387   |  Untreated_02 |\n",
        "|SRR23972388   |  Untreated_03 |\n"
      ]
    },
    {
      "cell_type": "code",
      "execution_count": null,
      "metadata": {
        "colab": {
          "base_uri": "https://localhost:8080/"
        },
        "id": "L2ioJeVz_qgB",
        "outputId": "136a692e-1c27-4d75-d4ac-e260d3846047"
      },
      "outputs": [
        {
          "name": "stdout",
          "output_type": "stream",
          "text": [
            "mv: cannot stat 'SRR23972383.fastq': No such file or directory\n",
            "mv: cannot stat 'SRR23972384.fastq': No such file or directory\n",
            "mv: cannot stat 'SRR23972385.fastq': No such file or directory\n",
            "mv: cannot stat 'SRR23972386.fastq': No such file or directory\n",
            "mv: cannot stat 'SRR23972387.fastq': No such file or directory\n",
            "mv: cannot stat 'SRR23972388.fastq': No such file or directory\n"
          ]
        }
      ],
      "source": [
        "!mv SRR23972383.fastq TT_Cultured_01.fastq\n",
        "!mv SRR23972384.fastq TT_Cultured_02.fastq\n",
        "!mv SRR23972385.fastq TT_Cultured_03.fastq\n",
        "\n",
        "!mv SRR23972386.fastq Untreated_01.fastq\n",
        "!mv SRR23972387.fastq Untreated_02.fastq\n",
        "!mv SRR23972388.fastq Untreated_03.fastq"
      ]
    },
    {
      "cell_type": "code",
      "execution_count": null,
      "metadata": {
        "colab": {
          "base_uri": "https://localhost:8080/"
        },
        "id": "62B3C19P_rMX",
        "outputId": "068ec4ef-00b4-4e88-9145-56c1b077c60b"
      },
      "outputs": [
        {
          "name": "stdout",
          "output_type": "stream",
          "text": [
            "Collecting cutadapt\n",
            "  Downloading cutadapt-5.0-cp311-cp311-manylinux_2_17_x86_64.manylinux2014_x86_64.whl.metadata (3.4 kB)\n",
            "Collecting dnaio>=1.2.3 (from cutadapt)\n",
            "  Downloading dnaio-1.2.3-cp311-cp311-manylinux_2_17_x86_64.manylinux2014_x86_64.whl.metadata (3.5 kB)\n",
            "Collecting xopen>=1.6.0 (from cutadapt)\n",
            "  Downloading xopen-2.0.2-py3-none-any.whl.metadata (15 kB)\n",
            "Collecting isal>=1.6.1 (from xopen>=1.6.0->cutadapt)\n",
            "  Downloading isal-1.7.2-cp311-cp311-manylinux_2_17_x86_64.manylinux2014_x86_64.whl.metadata (11 kB)\n",
            "Collecting zlib-ng>=0.4.1 (from xopen>=1.6.0->cutadapt)\n",
            "  Downloading zlib_ng-0.5.1-cp311-cp311-manylinux_2_17_x86_64.manylinux2014_x86_64.whl.metadata (6.8 kB)\n",
            "Downloading cutadapt-5.0-cp311-cp311-manylinux_2_17_x86_64.manylinux2014_x86_64.whl (286 kB)\n",
            "\u001b[2K   \u001b[90m━━━━━━━━━━━━━━━━━━━━━━━━━━━━━━━━━━━━━━━━\u001b[0m \u001b[32m286.1/286.1 kB\u001b[0m \u001b[31m9.3 MB/s\u001b[0m eta \u001b[36m0:00:00\u001b[0m\n",
            "\u001b[?25hDownloading dnaio-1.2.3-cp311-cp311-manylinux_2_17_x86_64.manylinux2014_x86_64.whl (108 kB)\n",
            "\u001b[2K   \u001b[90m━━━━━━━━━━━━━━━━━━━━━━━━━━━━━━━━━━━━━━━━\u001b[0m \u001b[32m108.9/108.9 kB\u001b[0m \u001b[31m9.9 MB/s\u001b[0m eta \u001b[36m0:00:00\u001b[0m\n",
            "\u001b[?25hDownloading xopen-2.0.2-py3-none-any.whl (17 kB)\n",
            "Downloading isal-1.7.2-cp311-cp311-manylinux_2_17_x86_64.manylinux2014_x86_64.whl (260 kB)\n",
            "\u001b[2K   \u001b[90m━━━━━━━━━━━━━━━━━━━━━━━━━━━━━━━━━━━━━━━━\u001b[0m \u001b[32m260.8/260.8 kB\u001b[0m \u001b[31m23.2 MB/s\u001b[0m eta \u001b[36m0:00:00\u001b[0m\n",
            "\u001b[?25hDownloading zlib_ng-0.5.1-cp311-cp311-manylinux_2_17_x86_64.manylinux2014_x86_64.whl (108 kB)\n",
            "\u001b[2K   \u001b[90m━━━━━━━━━━━━━━━━━━━━━━━━━━━━━━━━━━━━━━━━\u001b[0m \u001b[32m108.2/108.2 kB\u001b[0m \u001b[31m11.3 MB/s\u001b[0m eta \u001b[36m0:00:00\u001b[0m\n",
            "\u001b[?25hInstalling collected packages: zlib-ng, isal, xopen, dnaio, cutadapt\n",
            "Successfully installed cutadapt-5.0 dnaio-1.2.3 isal-1.7.2 xopen-2.0.2 zlib-ng-0.5.1\n"
          ]
        }
      ],
      "source": [
        "!pip install cutadapt"
      ]
    },
    {
      "cell_type": "code",
      "execution_count": null,
      "metadata": {
        "colab": {
          "base_uri": "https://localhost:8080/"
        },
        "id": "EuEc0DKDBwLS",
        "outputId": "5e24fcb1-febe-4684-954b-1ed805f4b78d"
      },
      "outputs": [
        {
          "name": "stdout",
          "output_type": "stream",
          "text": [
            "5.0\n"
          ]
        }
      ],
      "source": [
        "!cutadapt --version"
      ]
    },
    {
      "cell_type": "markdown",
      "source": [
        "Now let's trim our reads based on the FastQC per base sequence content graph"
      ],
      "metadata": {
        "id": "6xOsaH1cm6Oi"
      }
    },
    {
      "cell_type": "code",
      "execution_count": null,
      "metadata": {
        "colab": {
          "base_uri": "https://localhost:8080/"
        },
        "id": "u953AgDDCOGY",
        "outputId": "68dbf2d3-df07-4374-ed89-f8ac159618b8"
      },
      "outputs": [
        {
          "name": "stdout",
          "output_type": "stream",
          "text": [
            "This is cutadapt 5.0 with Python 3.11.12\n",
            "Command line parameters: --cut 200 -q 28 -o TT_Cultured_01_trimmed.fastq TT_Cultured_01.fastq\n",
            "[Errno 2] No such file or directory: 'TT_Cultured_01.fastq'\n",
            "This is cutadapt 5.0 with Python 3.11.12\n",
            "Command line parameters: --cut 200 -q 28 -o TT_Cultured_02_trimmed.fastq TT_Cultured_02.fastq\n",
            "[Errno 2] No such file or directory: 'TT_Cultured_02.fastq'\n",
            "This is cutadapt 5.0 with Python 3.11.12\n",
            "Command line parameters: --cut 200 -q 28 -o TT_Cultured_03_trimmed.fastq TT_Cultured_03.fastq\n",
            "[Errno 2] No such file or directory: 'TT_Cultured_03.fastq'\n",
            "This is cutadapt 5.0 with Python 3.11.12\n",
            "Command line parameters: --cut 200 -q 28 -o Untreated_01_trimmed.fastq Untreated_01.fastq\n",
            "[Errno 2] No such file or directory: 'Untreated_01.fastq'\n",
            "This is cutadapt 5.0 with Python 3.11.12\n",
            "Command line parameters: --cut 200 -q 28 -o Untreated_02_trimmed.fastq Untreated_02.fastq\n",
            "[Errno 2] No such file or directory: 'Untreated_02.fastq'\n",
            "This is cutadapt 5.0 with Python 3.11.12\n",
            "Command line parameters: --cut 200 -q 28 -o Untreated_03_trimmed.fastq Untreated_03.fastq\n",
            "[Errno 2] No such file or directory: 'Untreated_03.fastq'\n"
          ]
        }
      ],
      "source": [
        "!cutadapt --cut 200 -q 28 -o TT_Cultured_01_trimmed.fastq TT_Cultured_01.fastq\n",
        "!cutadapt --cut 200 -q 28 -o TT_Cultured_02_trimmed.fastq TT_Cultured_02.fastq\n",
        "!cutadapt --cut 200 -q 28 -o TT_Cultured_03_trimmed.fastq TT_Cultured_03.fastq\n",
        "\n",
        "!cutadapt --cut 200 -q 28 -o Untreated_01_trimmed.fastq Untreated_01.fastq\n",
        "!cutadapt --cut 200 -q 28 -o Untreated_02_trimmed.fastq Untreated_02.fastq\n",
        "!cutadapt --cut 200 -q 28 -o Untreated_03_trimmed.fastq Untreated_03.fastq"
      ]
    },
    {
      "cell_type": "markdown",
      "metadata": {
        "id": "OzyTIETkHSij"
      },
      "source": [
        "#READ MAPPING"
      ]
    },
    {
      "cell_type": "markdown",
      "metadata": {
        "id": "mdutt00PHVEU"
      },
      "source": [
        "Using hisat2, this is also what was used in the paper that this data is coming from. This is ideal for long-read sequencing"
      ]
    },
    {
      "cell_type": "code",
      "execution_count": null,
      "metadata": {
        "colab": {
          "base_uri": "https://localhost:8080/"
        },
        "id": "Yag3Y-RECN4i",
        "outputId": "6fdbe282-1c8d-4e43-f401-8f3898729bb8",
        "collapsed": true
      },
      "outputs": [
        {
          "name": "stdout",
          "output_type": "stream",
          "text": [
            "Reading package lists... Done\n",
            "Building dependency tree... Done\n",
            "Reading state information... Done\n",
            "The following additional packages will be installed:\n",
            "  bcftools libhts3 libhtscodecs2 python3-hisat2 samtools\n",
            "Suggested packages:\n",
            "  python3-numpy python3-matplotlib texlive-latex-recommended cwltool\n",
            "The following NEW packages will be installed:\n",
            "  bcftools hisat2 libhts3 libhtscodecs2 python3-hisat2 samtools\n",
            "0 upgraded, 6 newly installed, 0 to remove and 30 not upgraded.\n",
            "Need to get 5,505 kB of archives.\n",
            "After this operation, 17.1 MB of additional disk space will be used.\n",
            "Get:1 http://archive.ubuntu.com/ubuntu jammy/universe amd64 libhtscodecs2 amd64 1.1.1-3 [53.2 kB]\n",
            "Get:2 http://archive.ubuntu.com/ubuntu jammy/universe amd64 libhts3 amd64 1.13+ds-2build1 [390 kB]\n",
            "Get:3 http://archive.ubuntu.com/ubuntu jammy/universe amd64 bcftools amd64 1.13-1 [697 kB]\n",
            "Get:4 http://archive.ubuntu.com/ubuntu jammy/universe amd64 hisat2 amd64 2.2.1-3 [3,832 kB]\n",
            "Get:5 http://archive.ubuntu.com/ubuntu jammy/universe amd64 python3-hisat2 all 2.2.1-3 [12.7 kB]\n",
            "Get:6 http://archive.ubuntu.com/ubuntu jammy/universe amd64 samtools amd64 1.13-4 [520 kB]\n",
            "Fetched 5,505 kB in 1s (6,090 kB/s)\n",
            "Selecting previously unselected package libhtscodecs2:amd64.\n",
            "(Reading database ... 126467 files and directories currently installed.)\n",
            "Preparing to unpack .../0-libhtscodecs2_1.1.1-3_amd64.deb ...\n",
            "Unpacking libhtscodecs2:amd64 (1.1.1-3) ...\n",
            "Selecting previously unselected package libhts3:amd64.\n",
            "Preparing to unpack .../1-libhts3_1.13+ds-2build1_amd64.deb ...\n",
            "Unpacking libhts3:amd64 (1.13+ds-2build1) ...\n",
            "Selecting previously unselected package bcftools.\n",
            "Preparing to unpack .../2-bcftools_1.13-1_amd64.deb ...\n",
            "Unpacking bcftools (1.13-1) ...\n",
            "Selecting previously unselected package hisat2.\n",
            "Preparing to unpack .../3-hisat2_2.2.1-3_amd64.deb ...\n",
            "Unpacking hisat2 (2.2.1-3) ...\n",
            "Selecting previously unselected package python3-hisat2.\n",
            "Preparing to unpack .../4-python3-hisat2_2.2.1-3_all.deb ...\n",
            "Unpacking python3-hisat2 (2.2.1-3) ...\n",
            "Selecting previously unselected package samtools.\n",
            "Preparing to unpack .../5-samtools_1.13-4_amd64.deb ...\n",
            "Unpacking samtools (1.13-4) ...\n",
            "Setting up libhtscodecs2:amd64 (1.1.1-3) ...\n",
            "Setting up libhts3:amd64 (1.13+ds-2build1) ...\n",
            "Setting up bcftools (1.13-1) ...\n",
            "Setting up samtools (1.13-4) ...\n",
            "Setting up hisat2 (2.2.1-3) ...\n",
            "Setting up python3-hisat2 (2.2.1-3) ...\n",
            "Processing triggers for man-db (2.10.2-1) ...\n",
            "Processing triggers for libc-bin (2.35-0ubuntu3.8) ...\n",
            "/sbin/ldconfig.real: /usr/local/lib/libtcm.so.1 is not a symbolic link\n",
            "\n",
            "/sbin/ldconfig.real: /usr/local/lib/libtcm_debug.so.1 is not a symbolic link\n",
            "\n",
            "/sbin/ldconfig.real: /usr/local/lib/libtbbbind.so.3 is not a symbolic link\n",
            "\n",
            "/sbin/ldconfig.real: /usr/local/lib/libur_adapter_level_zero.so.0 is not a symbolic link\n",
            "\n",
            "/sbin/ldconfig.real: /usr/local/lib/libtbbmalloc_proxy.so.2 is not a symbolic link\n",
            "\n",
            "/sbin/ldconfig.real: /usr/local/lib/libtbbmalloc.so.2 is not a symbolic link\n",
            "\n",
            "/sbin/ldconfig.real: /usr/local/lib/libhwloc.so.15 is not a symbolic link\n",
            "\n",
            "/sbin/ldconfig.real: /usr/local/lib/libur_adapter_opencl.so.0 is not a symbolic link\n",
            "\n",
            "/sbin/ldconfig.real: /usr/local/lib/libtbbbind_2_5.so.3 is not a symbolic link\n",
            "\n",
            "/sbin/ldconfig.real: /usr/local/lib/libtbb.so.12 is not a symbolic link\n",
            "\n",
            "/sbin/ldconfig.real: /usr/local/lib/libur_loader.so.0 is not a symbolic link\n",
            "\n",
            "/sbin/ldconfig.real: /usr/local/lib/libumf.so.0 is not a symbolic link\n",
            "\n",
            "/sbin/ldconfig.real: /usr/local/lib/libtbbbind_2_0.so.3 is not a symbolic link\n",
            "\n"
          ]
        }
      ],
      "source": [
        "!apt-get install hisat2"
      ]
    },
    {
      "cell_type": "code",
      "execution_count": null,
      "metadata": {
        "colab": {
          "base_uri": "https://localhost:8080/"
        },
        "id": "LhTZX1qXCNqm",
        "outputId": "fcfcd395-cac2-4986-9120-462a90e2b656"
      },
      "outputs": [
        {
          "name": "stdout",
          "output_type": "stream",
          "text": [
            "--2025-04-16 20:24:51--  https://genome-idx.s3.amazonaws.com/hisat/grch38_genome.tar.gz\n",
            "Resolving genome-idx.s3.amazonaws.com (genome-idx.s3.amazonaws.com)... 52.217.169.185, 3.5.29.222, 52.217.170.129, ...\n",
            "Connecting to genome-idx.s3.amazonaws.com (genome-idx.s3.amazonaws.com)|52.217.169.185|:443... connected.\n",
            "HTTP request sent, awaiting response... 200 OK\n",
            "Length: 4210306865 (3.9G) [binary/octet-stream]\n",
            "Saving to: ‘grch38_genome.tar.gz’\n",
            "\n",
            "grch38_genome.tar.g   1%[                    ]  78.70M  24.2MB/s    eta 2m 47s "
          ]
        }
      ],
      "source": [
        "#Downlaod the human reference genome:\n",
        "!wget https://genome-idx.s3.amazonaws.com/hisat/grch38_genome.tar.gz\n",
        "#IT IS ALREADY INDEXED, in hisat form"
      ]
    },
    {
      "cell_type": "code",
      "execution_count": null,
      "metadata": {
        "id": "_dsmT5moOF8m"
      },
      "outputs": [],
      "source": [
        "!tar -xzf grch38_genome.tar.gz\n",
        "#tar is a form of unzipping/compression and -xzf is to extract"
      ]
    },
    {
      "cell_type": "code",
      "execution_count": null,
      "metadata": {
        "id": "NZkB2FnEObP8"
      },
      "outputs": [],
      "source": [
        "!ls grch38"
      ]
    },
    {
      "cell_type": "code",
      "execution_count": null,
      "metadata": {
        "id": "w1niZW5-QaSG"
      },
      "outputs": [],
      "source": [
        "!apt-get install hisat2"
      ]
    },
    {
      "cell_type": "code",
      "execution_count": null,
      "metadata": {
        "id": "SqzLM1G9QqIL"
      },
      "outputs": [],
      "source": [
        "!hisat2"
      ]
    },
    {
      "cell_type": "markdown",
      "source": [
        "Now we are aligning the trimmed fastq files using hisat to generate sam output files"
      ],
      "metadata": {
        "id": "2_fLNWHnngdW"
      }
    },
    {
      "cell_type": "code",
      "execution_count": null,
      "metadata": {
        "id": "lLPMV9urQxzb"
      },
      "outputs": [],
      "source": [
        "!hisat2 -x grch38/genome -p 50 -U TT_Cultured_01_trimmed.fastq -S TT_Cultured_01.sam\n",
        "!hisat2 -x grch38/genome -p 50 -U TT_Cultured_02_trimmed.fastq -S TT_Cultured_02.sam\n",
        "!hisat2 -x grch38/genome -p 50 -U TT_Cultured_03_trimmed.fastq -S TT_Cultured_03.sam\n",
        "\n",
        "!hisat2 -x grch38/genome -p 50 -U Untreated_01_trimmed.fastq -S Untreated_01.sam\n",
        "!hisat2 -x grch38/genome -p 50 -U Untreated_02_trimmed.fastq -S Untreated_02.sam\n",
        "!hisat2 -x grch38/genome -p 50 -U Untreated_03_trimmed.fastq -S Untreated_03.sam"
      ]
    },
    {
      "cell_type": "code",
      "execution_count": null,
      "metadata": {
        "id": "hOPpBb-USHNs"
      },
      "outputs": [],
      "source": [
        "!samtools view TT_Cultured_01.sam | head"
      ]
    },
    {
      "cell_type": "code",
      "execution_count": null,
      "metadata": {
        "id": "IpSDn2TZSZxo"
      },
      "outputs": [],
      "source": [
        "!samtools view TT_Cultured_02.sam | head"
      ]
    },
    {
      "cell_type": "code",
      "execution_count": null,
      "metadata": {
        "id": "CRvRnF8tSbia"
      },
      "outputs": [],
      "source": [
        "!samtools view TT_Cultured_03.sam | head"
      ]
    },
    {
      "cell_type": "code",
      "execution_count": null,
      "metadata": {
        "id": "jkRfSYV0SfDn"
      },
      "outputs": [],
      "source": [
        "!samtools view Untreated_01.sam | head"
      ]
    },
    {
      "cell_type": "code",
      "execution_count": null,
      "metadata": {
        "id": "h3oh4XSoSgMu"
      },
      "outputs": [],
      "source": [
        "!samtools view Untreated_02.sam | head"
      ]
    },
    {
      "cell_type": "code",
      "execution_count": null,
      "metadata": {
        "id": "3hQwkN_XShPJ"
      },
      "outputs": [],
      "source": [
        "!samtools view Untreated_03.sam | head"
      ]
    },
    {
      "cell_type": "markdown",
      "metadata": {
        "id": "xvJDr4EFSn7g"
      },
      "source": [
        "We can also run fastqc on a sam/bam file"
      ]
    },
    {
      "cell_type": "code",
      "execution_count": null,
      "metadata": {
        "id": "w29ENl2CSp9z"
      },
      "outputs": [],
      "source": [
        "!./FastQC/fastqc TT_Cultured_01.sam"
      ]
    },
    {
      "cell_type": "markdown",
      "metadata": {
        "id": "rPjnbjpLSxUV"
      },
      "source": [
        "#FEATURE COUNTS"
      ]
    },
    {
      "cell_type": "markdown",
      "source": [
        "Now we are going to generate a counts table to capture all the counts of each represented gene (rows) for each sample (columns)"
      ],
      "metadata": {
        "id": "zDXtqdV-nmt1"
      }
    },
    {
      "cell_type": "code",
      "execution_count": null,
      "metadata": {
        "id": "s_uXFKxiSy-I"
      },
      "outputs": [],
      "source": [
        "!apt-get install subread\n",
        "#Use subread to map and then a GTF file"
      ]
    },
    {
      "cell_type": "code",
      "execution_count": null,
      "metadata": {
        "id": "A0k8gyS6TPC8"
      },
      "outputs": [],
      "source": [
        "!wget https://ftp.ensembl.org/pub/release-102/gtf/homo_sapiens/Homo_sapiens.GRCh38.102.gtf.gz\n",
        "# A GTF file looks like a dataframe and tells you what type of RNA you have from x position to y position (all of the features in a genome)\n",
        "# are stored in a GTF FILE\n",
        "\n",
        "#DOWNLOAD GTFs from ENSEMBL\n",
        "\n",
        "!gunzip Homo_sapiens.GRCh38.102.gtf.gz"
      ]
    },
    {
      "cell_type": "code",
      "source": [
        "!featureCounts -a Mus_musculus.GRCm38.102.gtf -o counts_final.txt  *.sam"
      ],
      "metadata": {
        "id": "j-tmheBB3k1I"
      },
      "execution_count": null,
      "outputs": []
    }
  ],
  "metadata": {
    "colab": {
      "provenance": []
    },
    "kernelspec": {
      "display_name": "Python 3",
      "name": "python3"
    },
    "language_info": {
      "name": "python"
    }
  },
  "nbformat": 4,
  "nbformat_minor": 0
}